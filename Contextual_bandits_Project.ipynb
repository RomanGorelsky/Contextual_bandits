{
 "cells": [
  {
   "cell_type": "code",
   "execution_count": 1,
   "metadata": {
    "colab": {
     "base_uri": "https://localhost:8080/"
    },
    "id": "MkBDboH1A-Hq",
    "outputId": "45ca9a98-ab8a-460c-8233-bcd5596d3ccd"
   },
   "outputs": [
    {
     "name": "stdout",
     "output_type": "stream",
     "text": [
      "Collecting polara\n",
      "  Cloning https://github.com/evfro/polara.git (to revision develop) to /private/var/folders/wx/fzmjh7k14k500bnyqlpwchtc0000gp/T/pip-install-54ltwfo8/polara_b9d25629a57145f68810e5a743369f78\n",
      "  Running command git clone -q https://github.com/evfro/polara.git /private/var/folders/wx/fzmjh7k14k500bnyqlpwchtc0000gp/T/pip-install-54ltwfo8/polara_b9d25629a57145f68810e5a743369f78\n",
      "  Running command git checkout -b develop --track origin/develop\n",
      "  Switched to a new branch 'develop'\n",
      "  branch 'develop' set up to track 'origin/develop'.\n"
     ]
    }
   ],
   "source": [
    "!pip install --no-cache-dir --upgrade git+https://github.com/evfro/polara.git@develop#egg=polara"
   ]
  },
  {
   "cell_type": "markdown",
   "metadata": {
    "id": "owSf5u_WBUYN"
   },
   "source": [
    "# Imports"
   ]
  },
  {
   "cell_type": "code",
   "execution_count": 2,
   "metadata": {
    "id": "xDyZjNQIBOGb"
   },
   "outputs": [],
   "source": [
    "import seaborn as sns\n",
    "import matplotlib.pyplot as plt\n",
    "\n",
    "import random\n",
    "import numpy as np\n",
    "import pandas as pd\n",
    "import statistics as stat\n",
    "from tqdm.auto import tqdm\n",
    "from sklearn.model_selection import GroupKFold\n",
    "from sklearn.preprocessing import OneHotEncoder\n",
    "\n",
    "import polara\n",
    "from polara import get_movielens_data\n",
    "from polara.tools.display import print_frames"
   ]
  },
  {
   "cell_type": "markdown",
   "metadata": {
    "id": "69oCndBJBdDv"
   },
   "source": [
    "# Data Preparation"
   ]
  },
  {
   "cell_type": "markdown",
   "metadata": {
    "id": "vi621kaooCge"
   },
   "source": [
    "## Download"
   ]
  },
  {
   "cell_type": "markdown",
   "metadata": {
    "id": "mssc6M9vKqKW"
   },
   "source": [
    "The data about users' ratings and movies will be downloaded using polara."
   ]
  },
  {
   "cell_type": "code",
   "execution_count": 3,
   "metadata": {
    "id": "XE8ut_MrRfAY"
   },
   "outputs": [],
   "source": [
    "# ?get_movielens_data"
   ]
  },
  {
   "cell_type": "code",
   "execution_count": 4,
   "metadata": {
    "colab": {
     "base_uri": "https://localhost:8080/"
    },
    "id": "m_EWLfWsBYZT",
    "outputId": "c809df45-494e-4941-a196-598d8301577d"
   },
   "outputs": [
    {
     "data": {
      "text/plain": [
       "(1000209, 4)"
      ]
     },
     "execution_count": 4,
     "metadata": {},
     "output_type": "execute_result"
    }
   ],
   "source": [
    "ratings, genres = get_movielens_data(\n",
    "    get_genres=True,\n",
    "    split_genres=False,\n",
    "    include_time=True\n",
    ")\n",
    "\n",
    "ratings.shape"
   ]
  },
  {
   "cell_type": "code",
   "execution_count": 5,
   "metadata": {
    "colab": {
     "base_uri": "https://localhost:8080/"
    },
    "id": "XHT8LGsbBo6A",
    "outputId": "3ae41f0a-dc22-4ee4-c9a0-a648ca7f3b0e"
   },
   "outputs": [
    {
     "data": {
      "text/plain": [
       "(3883, 3)"
      ]
     },
     "execution_count": 5,
     "metadata": {},
     "output_type": "execute_result"
    }
   ],
   "source": [
    "movies = genres\n",
    "movies.shape"
   ]
  },
  {
   "cell_type": "markdown",
   "metadata": {},
   "source": [
    "The data about users is stored in a separate file as Polara doesn't offer possibility to download user features."
   ]
  },
  {
   "cell_type": "code",
   "execution_count": 6,
   "metadata": {
    "colab": {
     "base_uri": "https://localhost:8080/"
    },
    "id": "5O0UJGC1C4wG",
    "outputId": "e543ced0-88e0-46f3-aca9-637b03b2c501"
   },
   "outputs": [
    {
     "data": {
      "text/plain": [
       "(6040, 5)"
      ]
     },
     "execution_count": 6,
     "metadata": {},
     "output_type": "execute_result"
    }
   ],
   "source": [
    "users = pd.read_csv(\"users.csv\")\n",
    "users.shape"
   ]
  },
  {
   "cell_type": "markdown",
   "metadata": {
    "id": "GnON4VHQoBgy"
   },
   "source": [
    "## Description"
   ]
  },
  {
   "cell_type": "code",
   "execution_count": 7,
   "metadata": {
    "colab": {
     "base_uri": "https://localhost:8080/"
    },
    "id": "Swq7RlACBrma",
    "outputId": "86b420c4-a73f-47d4-a3ce-2e3f8989b914"
   },
   "outputs": [
    {
     "data": {
      "text/plain": [
       "userid         6040\n",
       "movieid        3706\n",
       "rating            5\n",
       "timestamp    458455\n",
       "dtype: int64"
      ]
     },
     "execution_count": 7,
     "metadata": {},
     "output_type": "execute_result"
    }
   ],
   "source": [
    "ratings.nunique()"
   ]
  },
  {
   "cell_type": "code",
   "execution_count": 8,
   "metadata": {
    "colab": {
     "base_uri": "https://localhost:8080/",
     "height": 224
    },
    "id": "LWgfe_mXf6PB",
    "outputId": "292342b9-a646-4618-9a19-0955559426d4"
   },
   "outputs": [
    {
     "data": {
      "text/html": [
       "<div>\n",
       "<style scoped>\n",
       "    .dataframe tbody tr th:only-of-type {\n",
       "        vertical-align: middle;\n",
       "    }\n",
       "\n",
       "    .dataframe tbody tr th {\n",
       "        vertical-align: top;\n",
       "    }\n",
       "\n",
       "    .dataframe thead th {\n",
       "        text-align: right;\n",
       "    }\n",
       "</style>\n",
       "<table border=\"1\" class=\"dataframe\">\n",
       "  <thead>\n",
       "    <tr style=\"text-align: right;\">\n",
       "      <th></th>\n",
       "      <th>userid</th>\n",
       "      <th>movieid</th>\n",
       "      <th>rating</th>\n",
       "      <th>timestamp</th>\n",
       "    </tr>\n",
       "  </thead>\n",
       "  <tbody>\n",
       "    <tr>\n",
       "      <th>0</th>\n",
       "      <td>1</td>\n",
       "      <td>1193</td>\n",
       "      <td>5</td>\n",
       "      <td>978300760</td>\n",
       "    </tr>\n",
       "    <tr>\n",
       "      <th>1</th>\n",
       "      <td>1</td>\n",
       "      <td>661</td>\n",
       "      <td>3</td>\n",
       "      <td>978302109</td>\n",
       "    </tr>\n",
       "    <tr>\n",
       "      <th>2</th>\n",
       "      <td>1</td>\n",
       "      <td>914</td>\n",
       "      <td>3</td>\n",
       "      <td>978301968</td>\n",
       "    </tr>\n",
       "    <tr>\n",
       "      <th>3</th>\n",
       "      <td>1</td>\n",
       "      <td>3408</td>\n",
       "      <td>4</td>\n",
       "      <td>978300275</td>\n",
       "    </tr>\n",
       "    <tr>\n",
       "      <th>4</th>\n",
       "      <td>1</td>\n",
       "      <td>2355</td>\n",
       "      <td>5</td>\n",
       "      <td>978824291</td>\n",
       "    </tr>\n",
       "  </tbody>\n",
       "</table>\n",
       "</div>"
      ],
      "text/plain": [
       "   userid  movieid  rating  timestamp\n",
       "0       1     1193       5  978300760\n",
       "1       1      661       3  978302109\n",
       "2       1      914       3  978301968\n",
       "3       1     3408       4  978300275\n",
       "4       1     2355       5  978824291"
      ]
     },
     "execution_count": 8,
     "metadata": {},
     "output_type": "execute_result"
    }
   ],
   "source": [
    "ratings.head()"
   ]
  },
  {
   "cell_type": "code",
   "execution_count": 9,
   "metadata": {
    "colab": {
     "base_uri": "https://localhost:8080/",
     "height": 408
    },
    "id": "oVXzHPfvf8sS",
    "outputId": "48cc13e6-daeb-43b6-a8f7-4ffe127844ff"
   },
   "outputs": [
    {
     "data": {
      "text/html": [
       "<div>\n",
       "<style scoped>\n",
       "    .dataframe tbody tr th:only-of-type {\n",
       "        vertical-align: middle;\n",
       "    }\n",
       "\n",
       "    .dataframe tbody tr th {\n",
       "        vertical-align: top;\n",
       "    }\n",
       "\n",
       "    .dataframe thead th {\n",
       "        text-align: right;\n",
       "    }\n",
       "</style>\n",
       "<table border=\"1\" class=\"dataframe\">\n",
       "  <thead>\n",
       "    <tr style=\"text-align: right;\">\n",
       "      <th></th>\n",
       "      <th>movieid</th>\n",
       "      <th>movienm</th>\n",
       "      <th>genres</th>\n",
       "    </tr>\n",
       "  </thead>\n",
       "  <tbody>\n",
       "    <tr>\n",
       "      <th>0</th>\n",
       "      <td>1</td>\n",
       "      <td>Toy Story (1995)</td>\n",
       "      <td>Animation|Children's|Comedy</td>\n",
       "    </tr>\n",
       "    <tr>\n",
       "      <th>1</th>\n",
       "      <td>2</td>\n",
       "      <td>Jumanji (1995)</td>\n",
       "      <td>Adventure|Children's|Fantasy</td>\n",
       "    </tr>\n",
       "    <tr>\n",
       "      <th>2</th>\n",
       "      <td>3</td>\n",
       "      <td>Grumpier Old Men (1995)</td>\n",
       "      <td>Comedy|Romance</td>\n",
       "    </tr>\n",
       "    <tr>\n",
       "      <th>3</th>\n",
       "      <td>4</td>\n",
       "      <td>Waiting to Exhale (1995)</td>\n",
       "      <td>Comedy|Drama</td>\n",
       "    </tr>\n",
       "    <tr>\n",
       "      <th>4</th>\n",
       "      <td>5</td>\n",
       "      <td>Father of the Bride Part II (1995)</td>\n",
       "      <td>Comedy</td>\n",
       "    </tr>\n",
       "  </tbody>\n",
       "</table>\n",
       "</div>"
      ],
      "text/plain": [
       "   movieid                             movienm                        genres\n",
       "0        1                    Toy Story (1995)   Animation|Children's|Comedy\n",
       "1        2                      Jumanji (1995)  Adventure|Children's|Fantasy\n",
       "2        3             Grumpier Old Men (1995)                Comedy|Romance\n",
       "3        4            Waiting to Exhale (1995)                  Comedy|Drama\n",
       "4        5  Father of the Bride Part II (1995)                        Comedy"
      ]
     },
     "execution_count": 9,
     "metadata": {},
     "output_type": "execute_result"
    }
   ],
   "source": [
    "movies.head()"
   ]
  },
  {
   "cell_type": "code",
   "execution_count": 10,
   "metadata": {
    "colab": {
     "base_uri": "https://localhost:8080/",
     "height": 224
    },
    "id": "QEOX_j7Hf-YW",
    "outputId": "a7de85da-afc3-4849-e88f-302cf59b6226"
   },
   "outputs": [
    {
     "data": {
      "text/html": [
       "<div>\n",
       "<style scoped>\n",
       "    .dataframe tbody tr th:only-of-type {\n",
       "        vertical-align: middle;\n",
       "    }\n",
       "\n",
       "    .dataframe tbody tr th {\n",
       "        vertical-align: top;\n",
       "    }\n",
       "\n",
       "    .dataframe thead th {\n",
       "        text-align: right;\n",
       "    }\n",
       "</style>\n",
       "<table border=\"1\" class=\"dataframe\">\n",
       "  <thead>\n",
       "    <tr style=\"text-align: right;\">\n",
       "      <th></th>\n",
       "      <th>userid</th>\n",
       "      <th>gender</th>\n",
       "      <th>age</th>\n",
       "      <th>occupation</th>\n",
       "      <th>zipcode</th>\n",
       "    </tr>\n",
       "  </thead>\n",
       "  <tbody>\n",
       "    <tr>\n",
       "      <th>0</th>\n",
       "      <td>1</td>\n",
       "      <td>F</td>\n",
       "      <td>1</td>\n",
       "      <td>10</td>\n",
       "      <td>48067</td>\n",
       "    </tr>\n",
       "    <tr>\n",
       "      <th>1</th>\n",
       "      <td>2</td>\n",
       "      <td>M</td>\n",
       "      <td>56</td>\n",
       "      <td>16</td>\n",
       "      <td>70072</td>\n",
       "    </tr>\n",
       "    <tr>\n",
       "      <th>2</th>\n",
       "      <td>3</td>\n",
       "      <td>M</td>\n",
       "      <td>25</td>\n",
       "      <td>15</td>\n",
       "      <td>55117</td>\n",
       "    </tr>\n",
       "    <tr>\n",
       "      <th>3</th>\n",
       "      <td>4</td>\n",
       "      <td>M</td>\n",
       "      <td>45</td>\n",
       "      <td>7</td>\n",
       "      <td>02460</td>\n",
       "    </tr>\n",
       "    <tr>\n",
       "      <th>4</th>\n",
       "      <td>5</td>\n",
       "      <td>M</td>\n",
       "      <td>25</td>\n",
       "      <td>20</td>\n",
       "      <td>55455</td>\n",
       "    </tr>\n",
       "  </tbody>\n",
       "</table>\n",
       "</div>"
      ],
      "text/plain": [
       "   userid gender  age  occupation zipcode\n",
       "0       1      F    1          10   48067\n",
       "1       2      M   56          16   70072\n",
       "2       3      M   25          15   55117\n",
       "3       4      M   45           7   02460\n",
       "4       5      M   25          20   55455"
      ]
     },
     "execution_count": 10,
     "metadata": {},
     "output_type": "execute_result"
    }
   ],
   "source": [
    "users.head()"
   ]
  },
  {
   "cell_type": "code",
   "execution_count": 11,
   "metadata": {
    "colab": {
     "base_uri": "https://localhost:8080/",
     "height": 122
    },
    "id": "qbPvil3OoGWx",
    "outputId": "63d5e5ff-2f23-4df8-b1e1-af22280a0792"
   },
   "outputs": [
    {
     "data": {
      "text/plain": [
       "Text(0.5, 1.0, 'Ratings Distribution')"
      ]
     },
     "execution_count": 11,
     "metadata": {},
     "output_type": "execute_result"
    },
    {
     "data": {
      "image/png": "[encoded data removed]",
      "text/plain": [
       "<Figure size 432x288 with 1 Axes>"
      ]
     },
     "metadata": {
      "needs_background": "light"
     },
     "output_type": "display_data"
    }
   ],
   "source": [
    "sns.countplot(x = \"rating\", data = ratings).set_title(\"Ratings Distribution\")"
   ]
  },
  {
   "cell_type": "markdown",
   "metadata": {
    "id": "TxU9BhpRFuc5"
   },
   "source": [
    "## Preprocessing"
   ]
  },
  {
   "cell_type": "markdown",
   "metadata": {
    "id": "N2Xiay164N15"
   },
   "source": [
    "### Movie data"
   ]
  },
  {
   "cell_type": "markdown",
   "metadata": {
    "id": "j0z-1S9d4Rpu"
   },
   "source": [
    "Genre splitting"
   ]
  },
  {
   "cell_type": "code",
   "execution_count": 12,
   "metadata": {
    "id": "veGF1nSxJt2P"
   },
   "outputs": [],
   "source": [
    "genres = set()\n",
    "\n",
    "for movie_genres in movies[\"genres\"]:\n",
    "  for genre in movie_genres.split(\"|\"):\n",
    "    genres.add(genre)"
   ]
  },
  {
   "cell_type": "code",
   "execution_count": 13,
   "metadata": {
    "id": "VMS36SRj4Whz"
   },
   "outputs": [],
   "source": [
    "col = 2\n",
    "for genre in genres:\n",
    "  movies.insert(col, genre, np.zeros(len(movies[\"genres\"]), int))\n",
    "  col += 1"
   ]
  },
  {
   "cell_type": "code",
   "execution_count": 14,
   "metadata": {
    "colab": {
     "base_uri": "https://localhost:8080/",
     "height": 425
    },
    "id": "uD_VZU4dJvhl",
    "outputId": "8aafcedc-468e-457c-a807-6dd04290b41b"
   },
   "outputs": [
    {
     "data": {
      "text/html": [
       "<div>\n",
       "<style scoped>\n",
       "    .dataframe tbody tr th:only-of-type {\n",
       "        vertical-align: middle;\n",
       "    }\n",
       "\n",
       "    .dataframe tbody tr th {\n",
       "        vertical-align: top;\n",
       "    }\n",
       "\n",
       "    .dataframe thead th {\n",
       "        text-align: right;\n",
       "    }\n",
       "</style>\n",
       "<table border=\"1\" class=\"dataframe\">\n",
       "  <thead>\n",
       "    <tr style=\"text-align: right;\">\n",
       "      <th></th>\n",
       "      <th>movieid</th>\n",
       "      <th>Children's</th>\n",
       "      <th>Drama</th>\n",
       "      <th>Action</th>\n",
       "      <th>War</th>\n",
       "      <th>Film-Noir</th>\n",
       "      <th>Fantasy</th>\n",
       "      <th>Musical</th>\n",
       "      <th>Thriller</th>\n",
       "      <th>Horror</th>\n",
       "      <th>Comedy</th>\n",
       "      <th>Mystery</th>\n",
       "      <th>Western</th>\n",
       "      <th>Adventure</th>\n",
       "      <th>Crime</th>\n",
       "      <th>Documentary</th>\n",
       "      <th>Animation</th>\n",
       "      <th>Romance</th>\n",
       "      <th>Sci-Fi</th>\n",
       "    </tr>\n",
       "  </thead>\n",
       "  <tbody>\n",
       "    <tr>\n",
       "      <th>0</th>\n",
       "      <td>1</td>\n",
       "      <td>1</td>\n",
       "      <td>0</td>\n",
       "      <td>0</td>\n",
       "      <td>0</td>\n",
       "      <td>0</td>\n",
       "      <td>0</td>\n",
       "      <td>0</td>\n",
       "      <td>0</td>\n",
       "      <td>0</td>\n",
       "      <td>1</td>\n",
       "      <td>0</td>\n",
       "      <td>0</td>\n",
       "      <td>0</td>\n",
       "      <td>0</td>\n",
       "      <td>0</td>\n",
       "      <td>1</td>\n",
       "      <td>0</td>\n",
       "      <td>0</td>\n",
       "    </tr>\n",
       "    <tr>\n",
       "      <th>1</th>\n",
       "      <td>2</td>\n",
       "      <td>1</td>\n",
       "      <td>0</td>\n",
       "      <td>0</td>\n",
       "      <td>0</td>\n",
       "      <td>0</td>\n",
       "      <td>1</td>\n",
       "      <td>0</td>\n",
       "      <td>0</td>\n",
       "      <td>0</td>\n",
       "      <td>0</td>\n",
       "      <td>0</td>\n",
       "      <td>0</td>\n",
       "      <td>1</td>\n",
       "      <td>0</td>\n",
       "      <td>0</td>\n",
       "      <td>0</td>\n",
       "      <td>0</td>\n",
       "      <td>0</td>\n",
       "    </tr>\n",
       "    <tr>\n",
       "      <th>2</th>\n",
       "      <td>3</td>\n",
       "      <td>0</td>\n",
       "      <td>0</td>\n",
       "      <td>0</td>\n",
       "      <td>0</td>\n",
       "      <td>0</td>\n",
       "      <td>0</td>\n",
       "      <td>0</td>\n",
       "      <td>0</td>\n",
       "      <td>0</td>\n",
       "      <td>1</td>\n",
       "      <td>0</td>\n",
       "      <td>0</td>\n",
       "      <td>0</td>\n",
       "      <td>0</td>\n",
       "      <td>0</td>\n",
       "      <td>0</td>\n",
       "      <td>1</td>\n",
       "      <td>0</td>\n",
       "    </tr>\n",
       "    <tr>\n",
       "      <th>3</th>\n",
       "      <td>4</td>\n",
       "      <td>0</td>\n",
       "      <td>1</td>\n",
       "      <td>0</td>\n",
       "      <td>0</td>\n",
       "      <td>0</td>\n",
       "      <td>0</td>\n",
       "      <td>0</td>\n",
       "      <td>0</td>\n",
       "      <td>0</td>\n",
       "      <td>1</td>\n",
       "      <td>0</td>\n",
       "      <td>0</td>\n",
       "      <td>0</td>\n",
       "      <td>0</td>\n",
       "      <td>0</td>\n",
       "      <td>0</td>\n",
       "      <td>0</td>\n",
       "      <td>0</td>\n",
       "    </tr>\n",
       "    <tr>\n",
       "      <th>4</th>\n",
       "      <td>5</td>\n",
       "      <td>0</td>\n",
       "      <td>0</td>\n",
       "      <td>0</td>\n",
       "      <td>0</td>\n",
       "      <td>0</td>\n",
       "      <td>0</td>\n",
       "      <td>0</td>\n",
       "      <td>0</td>\n",
       "      <td>0</td>\n",
       "      <td>1</td>\n",
       "      <td>0</td>\n",
       "      <td>0</td>\n",
       "      <td>0</td>\n",
       "      <td>0</td>\n",
       "      <td>0</td>\n",
       "      <td>0</td>\n",
       "      <td>0</td>\n",
       "      <td>0</td>\n",
       "    </tr>\n",
       "  </tbody>\n",
       "</table>\n",
       "</div>"
      ],
      "text/plain": [
       "   movieid  Children's  Drama  Action  War  Film-Noir  Fantasy  Musical  \\\n",
       "0        1           1      0       0    0          0        0        0   \n",
       "1        2           1      0       0    0          0        1        0   \n",
       "2        3           0      0       0    0          0        0        0   \n",
       "3        4           0      1       0    0          0        0        0   \n",
       "4        5           0      0       0    0          0        0        0   \n",
       "\n",
       "   Thriller  Horror  Comedy  Mystery  Western  Adventure  Crime  Documentary  \\\n",
       "0         0       0       1        0        0          0      0            0   \n",
       "1         0       0       0        0        0          1      0            0   \n",
       "2         0       0       1        0        0          0      0            0   \n",
       "3         0       0       1        0        0          0      0            0   \n",
       "4         0       0       1        0        0          0      0            0   \n",
       "\n",
       "   Animation  Romance  Sci-Fi  \n",
       "0          1        0       0  \n",
       "1          0        0       0  \n",
       "2          0        1       0  \n",
       "3          0        0       0  \n",
       "4          0        0       0  "
      ]
     },
     "execution_count": 14,
     "metadata": {},
     "output_type": "execute_result"
    }
   ],
   "source": [
    "for index, row in movies.iterrows():\n",
    "  for genre in row[\"genres\"].split(\"|\"):\n",
    "    movies.loc[index, genre] = 1\n",
    "\n",
    "movies = movies.drop([\"movienm\", \"genres\"], axis = 1)\n",
    "movies.head()"
   ]
  },
  {
   "cell_type": "markdown",
   "metadata": {
    "id": "3Zeu1ndd32hc"
   },
   "source": [
    "### Ratings data"
   ]
  },
  {
   "cell_type": "markdown",
   "metadata": {},
   "source": [
    "Done with a reference to [stream data of users preprocessing](https://github.com/kfoofw/bandit_simulations/blob/master/python/contextual_bandits/notebooks/LinUCB_hybrid.ipynb)."
   ]
  },
  {
   "cell_type": "markdown",
   "metadata": {
    "id": "C_ey7AsQp0FU"
   },
   "source": [
    "#### Top-n movies collection"
   ]
  },
  {
   "cell_type": "code",
   "execution_count": 15,
   "metadata": {
    "colab": {
     "base_uri": "https://localhost:8080/"
    },
    "id": "8Dgq8nUZp5G5",
    "outputId": "739a4ae1-ef8d-4559-8c98-3aa28d1f1ec2"
   },
   "outputs": [
    {
     "data": {
      "text/plain": [
       "0    2858\n",
       "1     260\n",
       "2    1196\n",
       "3    1210\n",
       "4     480\n",
       "Name: movieid, dtype: int64"
      ]
     },
     "execution_count": 15,
     "metadata": {},
     "output_type": "execute_result"
    }
   ],
   "source": [
    "n = 30\n",
    "\n",
    "top_movies_index = ratings.groupby(\"movieid\").count().sort_values(\"userid\", ascending = False).head(n).reset_index()[\"movieid\"]\n",
    "top_movies_index.head()"
   ]
  },
  {
   "cell_type": "code",
   "execution_count": 16,
   "metadata": {
    "colab": {
     "base_uri": "https://localhost:8080/"
    },
    "id": "IykiufaQrR9x",
    "outputId": "dd9e325b-8cc9-4622-b2fb-f026b4bec623"
   },
   "outputs": [
    {
     "data": {
      "text/plain": [
       "(30, 19)"
      ]
     },
     "execution_count": 16,
     "metadata": {},
     "output_type": "execute_result"
    }
   ],
   "source": [
    "top_movies = movies[movies.movieid.isin(top_movies_index)]\n",
    "top_movies.shape"
   ]
  },
  {
   "cell_type": "code",
   "execution_count": 17,
   "metadata": {
    "colab": {
     "base_uri": "https://localhost:8080/"
    },
    "id": "RU-ffnaUz6ay",
    "outputId": "3584c984-8eb3-4990-9fbb-fa5443966e97"
   },
   "outputs": [
    {
     "data": {
      "text/plain": [
       "(73972, 4)"
      ]
     },
     "execution_count": 17,
     "metadata": {},
     "output_type": "execute_result"
    }
   ],
   "source": [
    "filtered_ratings_original = ratings[ratings[\"movieid\"].isin(top_movies_index)]\n",
    "filtered_ratings_original.shape"
   ]
  },
  {
   "cell_type": "code",
   "execution_count": 18,
   "metadata": {
    "colab": {
     "base_uri": "https://localhost:8080/",
     "height": 306
    },
    "id": "BWbWPPIzBrXm",
    "outputId": "66be5a50-97fc-4279-c711-8e0483306a63"
   },
   "outputs": [
    {
     "name": "stderr",
     "output_type": "stream",
     "text": [
      "<ipython-input-18-0b212c230073>:1: SettingWithCopyWarning: \n",
      "A value is trying to be set on a copy of a slice from a DataFrame.\n",
      "Try using .loc[row_indexer,col_indexer] = value instead\n",
      "\n",
      "See the caveats in the documentation: https://pandas.pydata.org/pandas-docs/stable/user_guide/indexing.html#returning-a-view-versus-a-copy\n",
      "  filtered_ratings_original[\"reward\"] = np.where(filtered_ratings_original[\"rating\"] < 5, 0, 1)\n"
     ]
    },
    {
     "data": {
      "text/html": [
       "<div>\n",
       "<style scoped>\n",
       "    .dataframe tbody tr th:only-of-type {\n",
       "        vertical-align: middle;\n",
       "    }\n",
       "\n",
       "    .dataframe tbody tr th {\n",
       "        vertical-align: top;\n",
       "    }\n",
       "\n",
       "    .dataframe thead th {\n",
       "        text-align: right;\n",
       "    }\n",
       "</style>\n",
       "<table border=\"1\" class=\"dataframe\">\n",
       "  <thead>\n",
       "    <tr style=\"text-align: right;\">\n",
       "      <th></th>\n",
       "      <th>userid</th>\n",
       "      <th>movieid</th>\n",
       "      <th>rating</th>\n",
       "      <th>timestamp</th>\n",
       "      <th>reward</th>\n",
       "    </tr>\n",
       "  </thead>\n",
       "  <tbody>\n",
       "    <tr>\n",
       "      <th>5</th>\n",
       "      <td>1</td>\n",
       "      <td>1197</td>\n",
       "      <td>3</td>\n",
       "      <td>978302268</td>\n",
       "      <td>0</td>\n",
       "    </tr>\n",
       "    <tr>\n",
       "      <th>22</th>\n",
       "      <td>1</td>\n",
       "      <td>1270</td>\n",
       "      <td>5</td>\n",
       "      <td>978300055</td>\n",
       "      <td>1</td>\n",
       "    </tr>\n",
       "    <tr>\n",
       "      <th>23</th>\n",
       "      <td>1</td>\n",
       "      <td>527</td>\n",
       "      <td>5</td>\n",
       "      <td>978824195</td>\n",
       "      <td>1</td>\n",
       "    </tr>\n",
       "    <tr>\n",
       "      <th>26</th>\n",
       "      <td>1</td>\n",
       "      <td>1097</td>\n",
       "      <td>4</td>\n",
       "      <td>978301953</td>\n",
       "      <td>0</td>\n",
       "    </tr>\n",
       "    <tr>\n",
       "      <th>38</th>\n",
       "      <td>1</td>\n",
       "      <td>2762</td>\n",
       "      <td>4</td>\n",
       "      <td>978302091</td>\n",
       "      <td>0</td>\n",
       "    </tr>\n",
       "  </tbody>\n",
       "</table>\n",
       "</div>"
      ],
      "text/plain": [
       "    userid  movieid  rating  timestamp  reward\n",
       "5        1     1197       3  978302268       0\n",
       "22       1     1270       5  978300055       1\n",
       "23       1      527       5  978824195       1\n",
       "26       1     1097       4  978301953       0\n",
       "38       1     2762       4  978302091       0"
      ]
     },
     "execution_count": 18,
     "metadata": {},
     "output_type": "execute_result"
    }
   ],
   "source": [
    "filtered_ratings_original[\"reward\"] = np.where(filtered_ratings_original[\"rating\"] < 5, 0, 1)\n",
    "filtered_ratings_original.head()"
   ]
  },
  {
   "cell_type": "code",
   "execution_count": 19,
   "metadata": {
    "id": "Cvb8Ac3NLCns"
   },
   "outputs": [],
   "source": [
    "filtered_ratings_original = filtered_ratings_original.reset_index(drop = True)"
   ]
  },
  {
   "cell_type": "code",
   "execution_count": 20,
   "metadata": {
    "colab": {
     "base_uri": "https://localhost:8080/",
     "height": 447
    },
    "id": "QCpnuhznKQwQ",
    "outputId": "6b3e086c-3d70-4a90-8d64-145866727244"
   },
   "outputs": [
    {
     "data": {
      "text/plain": [
       "<AxesSubplot:>"
      ]
     },
     "execution_count": 20,
     "metadata": {},
     "output_type": "execute_result"
    },
    {
     "data": {
      "image/png": "[encoded data removed]",
      "text/plain": [
       "<Figure size 432x288 with 1 Axes>"
      ]
     },
     "metadata": {
      "needs_background": "light"
     },
     "output_type": "display_data"
    }
   ],
   "source": [
    "filtered_ratings_original.reward.hist()"
   ]
  },
  {
   "cell_type": "code",
   "execution_count": 21,
   "metadata": {
    "colab": {
     "base_uri": "https://localhost:8080/"
    },
    "id": "ozwIVNc5KTAg",
    "outputId": "e2a905b6-3594-4931-90e2-ea9e8a2e08b1"
   },
   "outputs": [
    {
     "data": {
      "text/plain": [
       "0.45364462228951496"
      ]
     },
     "execution_count": 21,
     "metadata": {},
     "output_type": "execute_result"
    }
   ],
   "source": [
    "reward_mean = filtered_ratings_original.reward.mean()\n",
    "reward_mean"
   ]
  },
  {
   "cell_type": "code",
   "execution_count": 22,
   "metadata": {
    "id": "t2q91ivfKbCJ"
   },
   "outputs": [],
   "source": [
    "# Reshuffling rows to randomise it\n",
    "np.random.seed(42)\n",
    "filtered_ratings = filtered_ratings_original.reindex(np.random.permutation(filtered_ratings_original.index)).reset_index(drop = True)\n",
    "filtered_ratings = filtered_ratings_original.reset_index(drop = True)"
   ]
  },
  {
   "cell_type": "markdown",
   "metadata": {
    "id": "67-5f5KwRKcq"
   },
   "source": [
    "### User data"
   ]
  },
  {
   "cell_type": "markdown",
   "metadata": {},
   "source": [
    "Done with a reference to [user data preprocessing](https://github.com/kfoofw/bandit_simulations/blob/master/python/contextual_bandits/notebooks/LinUCB_hybrid.ipynb)."
   ]
  },
  {
   "cell_type": "code",
   "execution_count": 23,
   "metadata": {
    "colab": {
     "base_uri": "https://localhost:8080/",
     "height": 224
    },
    "id": "UGwcZl5aRMaJ",
    "outputId": "18c96d6b-9fef-4eab-cf1e-3414f71533c2"
   },
   "outputs": [
    {
     "data": {
      "text/html": [
       "<div>\n",
       "<style scoped>\n",
       "    .dataframe tbody tr th:only-of-type {\n",
       "        vertical-align: middle;\n",
       "    }\n",
       "\n",
       "    .dataframe tbody tr th {\n",
       "        vertical-align: top;\n",
       "    }\n",
       "\n",
       "    .dataframe thead th {\n",
       "        text-align: right;\n",
       "    }\n",
       "</style>\n",
       "<table border=\"1\" class=\"dataframe\">\n",
       "  <thead>\n",
       "    <tr style=\"text-align: right;\">\n",
       "      <th></th>\n",
       "      <th>userid</th>\n",
       "      <th>gender</th>\n",
       "      <th>occupation</th>\n",
       "      <th>zipcode</th>\n",
       "      <th>agegroup</th>\n",
       "    </tr>\n",
       "  </thead>\n",
       "  <tbody>\n",
       "    <tr>\n",
       "      <th>0</th>\n",
       "      <td>1</td>\n",
       "      <td>F</td>\n",
       "      <td>10</td>\n",
       "      <td>48067</td>\n",
       "      <td>&lt;20</td>\n",
       "    </tr>\n",
       "    <tr>\n",
       "      <th>1</th>\n",
       "      <td>2</td>\n",
       "      <td>M</td>\n",
       "      <td>16</td>\n",
       "      <td>70072</td>\n",
       "      <td>51-60</td>\n",
       "    </tr>\n",
       "    <tr>\n",
       "      <th>2</th>\n",
       "      <td>3</td>\n",
       "      <td>M</td>\n",
       "      <td>15</td>\n",
       "      <td>55117</td>\n",
       "      <td>20-29</td>\n",
       "    </tr>\n",
       "    <tr>\n",
       "      <th>3</th>\n",
       "      <td>4</td>\n",
       "      <td>M</td>\n",
       "      <td>7</td>\n",
       "      <td>02460</td>\n",
       "      <td>40-49</td>\n",
       "    </tr>\n",
       "    <tr>\n",
       "      <th>4</th>\n",
       "      <td>5</td>\n",
       "      <td>M</td>\n",
       "      <td>20</td>\n",
       "      <td>55455</td>\n",
       "      <td>20-29</td>\n",
       "    </tr>\n",
       "  </tbody>\n",
       "</table>\n",
       "</div>"
      ],
      "text/plain": [
       "   userid gender  occupation zipcode agegroup\n",
       "0       1      F          10   48067      <20\n",
       "1       2      M          16   70072    51-60\n",
       "2       3      M          15   55117    20-29\n",
       "3       4      M           7   02460    40-49\n",
       "4       5      M          20   55455    20-29"
      ]
     },
     "execution_count": 23,
     "metadata": {},
     "output_type": "execute_result"
    }
   ],
   "source": [
    "bins = [0, 20, 30, 40, 50, 60, np.inf]\n",
    "names = ['<20', '20-29', '30-39','40-49', '51-60', '60+']\n",
    "\n",
    "users['agegroup'] = pd.cut(users['age'], bins, labels=names)\n",
    "users = users.drop([\"age\"], axis = 1)\n",
    "users.head()"
   ]
  },
  {
   "cell_type": "code",
   "execution_count": 24,
   "metadata": {
    "id": "bB1Ni_xkgXJc"
   },
   "outputs": [],
   "source": [
    "users[\"occupation\"] = users[\"occupation\"].map({\n",
    "\t  0:  \"other or not specified\",\n",
    "\t  1:  \"academic/educator\",\n",
    "\t  2:  \"artist\",\n",
    "\t  3:  \"clerical/admin\",\n",
    "\t  4:  \"college/grad student\",\n",
    "\t  5:  \"customer service\",\n",
    "\t  6:  \"doctor/health care\",\n",
    "\t  7:  \"executive/managerial\",\n",
    "\t  8:  \"farmer\",\n",
    "\t  9:  \"homemaker\",\n",
    "\t 10:  \"K-12 student\",\n",
    "\t 11:  \"lawyer\",\n",
    "\t 12:  \"programmer\",\n",
    "\t 13:  \"retired\",\n",
    "\t 14:  \"sales/marketing\",\n",
    "\t 15:  \"scientist\",\n",
    "\t 16:  \"self-employed\",\n",
    "\t 17:  \"technician/engineer\",\n",
    "\t 18:  \"tradesman/craftsman\",\n",
    "\t 19:  \"unemployed\",\n",
    "\t 20:  \"writer\"})"
   ]
  },
  {
   "cell_type": "code",
   "execution_count": 25,
   "metadata": {
    "colab": {
     "base_uri": "https://localhost:8080/",
     "height": 321
    },
    "id": "22qQMLnPRVeG",
    "outputId": "b1a1c119-b55e-429c-901e-6bcca867d8e7"
   },
   "outputs": [
    {
     "name": "stdout",
     "output_type": "stream",
     "text": [
      "(6040, 29)\n"
     ]
    },
    {
     "data": {
      "text/html": [
       "<div>\n",
       "<style scoped>\n",
       "    .dataframe tbody tr th:only-of-type {\n",
       "        vertical-align: middle;\n",
       "    }\n",
       "\n",
       "    .dataframe tbody tr th {\n",
       "        vertical-align: top;\n",
       "    }\n",
       "\n",
       "    .dataframe thead th {\n",
       "        text-align: right;\n",
       "    }\n",
       "</style>\n",
       "<table border=\"1\" class=\"dataframe\">\n",
       "  <thead>\n",
       "    <tr style=\"text-align: right;\">\n",
       "      <th></th>\n",
       "      <th>userid</th>\n",
       "      <th>agegroup_20-29</th>\n",
       "      <th>agegroup_30-39</th>\n",
       "      <th>agegroup_40-49</th>\n",
       "      <th>agegroup_51-60</th>\n",
       "      <th>agegroup_&lt;20</th>\n",
       "      <th>gender_F</th>\n",
       "      <th>gender_M</th>\n",
       "      <th>occupation_K-12 student</th>\n",
       "      <th>occupation_academic/educator</th>\n",
       "      <th>...</th>\n",
       "      <th>occupation_other or not specified</th>\n",
       "      <th>occupation_programmer</th>\n",
       "      <th>occupation_retired</th>\n",
       "      <th>occupation_sales/marketing</th>\n",
       "      <th>occupation_scientist</th>\n",
       "      <th>occupation_self-employed</th>\n",
       "      <th>occupation_technician/engineer</th>\n",
       "      <th>occupation_tradesman/craftsman</th>\n",
       "      <th>occupation_unemployed</th>\n",
       "      <th>occupation_writer</th>\n",
       "    </tr>\n",
       "  </thead>\n",
       "  <tbody>\n",
       "    <tr>\n",
       "      <th>0</th>\n",
       "      <td>1</td>\n",
       "      <td>0</td>\n",
       "      <td>0</td>\n",
       "      <td>0</td>\n",
       "      <td>0</td>\n",
       "      <td>1</td>\n",
       "      <td>1</td>\n",
       "      <td>0</td>\n",
       "      <td>1</td>\n",
       "      <td>0</td>\n",
       "      <td>...</td>\n",
       "      <td>0</td>\n",
       "      <td>0</td>\n",
       "      <td>0</td>\n",
       "      <td>0</td>\n",
       "      <td>0</td>\n",
       "      <td>0</td>\n",
       "      <td>0</td>\n",
       "      <td>0</td>\n",
       "      <td>0</td>\n",
       "      <td>0</td>\n",
       "    </tr>\n",
       "    <tr>\n",
       "      <th>1</th>\n",
       "      <td>2</td>\n",
       "      <td>0</td>\n",
       "      <td>0</td>\n",
       "      <td>0</td>\n",
       "      <td>1</td>\n",
       "      <td>0</td>\n",
       "      <td>0</td>\n",
       "      <td>1</td>\n",
       "      <td>0</td>\n",
       "      <td>0</td>\n",
       "      <td>...</td>\n",
       "      <td>0</td>\n",
       "      <td>0</td>\n",
       "      <td>0</td>\n",
       "      <td>0</td>\n",
       "      <td>0</td>\n",
       "      <td>1</td>\n",
       "      <td>0</td>\n",
       "      <td>0</td>\n",
       "      <td>0</td>\n",
       "      <td>0</td>\n",
       "    </tr>\n",
       "    <tr>\n",
       "      <th>2</th>\n",
       "      <td>3</td>\n",
       "      <td>1</td>\n",
       "      <td>0</td>\n",
       "      <td>0</td>\n",
       "      <td>0</td>\n",
       "      <td>0</td>\n",
       "      <td>0</td>\n",
       "      <td>1</td>\n",
       "      <td>0</td>\n",
       "      <td>0</td>\n",
       "      <td>...</td>\n",
       "      <td>0</td>\n",
       "      <td>0</td>\n",
       "      <td>0</td>\n",
       "      <td>0</td>\n",
       "      <td>1</td>\n",
       "      <td>0</td>\n",
       "      <td>0</td>\n",
       "      <td>0</td>\n",
       "      <td>0</td>\n",
       "      <td>0</td>\n",
       "    </tr>\n",
       "    <tr>\n",
       "      <th>3</th>\n",
       "      <td>4</td>\n",
       "      <td>0</td>\n",
       "      <td>0</td>\n",
       "      <td>1</td>\n",
       "      <td>0</td>\n",
       "      <td>0</td>\n",
       "      <td>0</td>\n",
       "      <td>1</td>\n",
       "      <td>0</td>\n",
       "      <td>0</td>\n",
       "      <td>...</td>\n",
       "      <td>0</td>\n",
       "      <td>0</td>\n",
       "      <td>0</td>\n",
       "      <td>0</td>\n",
       "      <td>0</td>\n",
       "      <td>0</td>\n",
       "      <td>0</td>\n",
       "      <td>0</td>\n",
       "      <td>0</td>\n",
       "      <td>0</td>\n",
       "    </tr>\n",
       "    <tr>\n",
       "      <th>4</th>\n",
       "      <td>5</td>\n",
       "      <td>1</td>\n",
       "      <td>0</td>\n",
       "      <td>0</td>\n",
       "      <td>0</td>\n",
       "      <td>0</td>\n",
       "      <td>0</td>\n",
       "      <td>1</td>\n",
       "      <td>0</td>\n",
       "      <td>0</td>\n",
       "      <td>...</td>\n",
       "      <td>0</td>\n",
       "      <td>0</td>\n",
       "      <td>0</td>\n",
       "      <td>0</td>\n",
       "      <td>0</td>\n",
       "      <td>0</td>\n",
       "      <td>0</td>\n",
       "      <td>0</td>\n",
       "      <td>0</td>\n",
       "      <td>1</td>\n",
       "    </tr>\n",
       "  </tbody>\n",
       "</table>\n",
       "<p>5 rows × 29 columns</p>\n",
       "</div>"
      ],
      "text/plain": [
       "   userid  agegroup_20-29  agegroup_30-39  agegroup_40-49  agegroup_51-60  \\\n",
       "0       1               0               0               0               0   \n",
       "1       2               0               0               0               1   \n",
       "2       3               1               0               0               0   \n",
       "3       4               0               0               1               0   \n",
       "4       5               1               0               0               0   \n",
       "\n",
       "   agegroup_<20  gender_F  gender_M  occupation_K-12 student  \\\n",
       "0             1         1         0                        1   \n",
       "1             0         0         1                        0   \n",
       "2             0         0         1                        0   \n",
       "3             0         0         1                        0   \n",
       "4             0         0         1                        0   \n",
       "\n",
       "   occupation_academic/educator  ...  occupation_other or not specified  \\\n",
       "0                             0  ...                                  0   \n",
       "1                             0  ...                                  0   \n",
       "2                             0  ...                                  0   \n",
       "3                             0  ...                                  0   \n",
       "4                             0  ...                                  0   \n",
       "\n",
       "   occupation_programmer  occupation_retired  occupation_sales/marketing  \\\n",
       "0                      0                   0                           0   \n",
       "1                      0                   0                           0   \n",
       "2                      0                   0                           0   \n",
       "3                      0                   0                           0   \n",
       "4                      0                   0                           0   \n",
       "\n",
       "   occupation_scientist  occupation_self-employed  \\\n",
       "0                     0                         0   \n",
       "1                     0                         1   \n",
       "2                     1                         0   \n",
       "3                     0                         0   \n",
       "4                     0                         0   \n",
       "\n",
       "   occupation_technician/engineer  occupation_tradesman/craftsman  \\\n",
       "0                               0                               0   \n",
       "1                               0                               0   \n",
       "2                               0                               0   \n",
       "3                               0                               0   \n",
       "4                               0                               0   \n",
       "\n",
       "   occupation_unemployed  occupation_writer  \n",
       "0                      0                  0  \n",
       "1                      0                  0  \n",
       "2                      0                  0  \n",
       "3                      0                  0  \n",
       "4                      0                  1  \n",
       "\n",
       "[5 rows x 29 columns]"
      ]
     },
     "execution_count": 25,
     "metadata": {},
     "output_type": "execute_result"
    }
   ],
   "source": [
    "columnsToEncode = [\"agegroup\", \"gender\", \"occupation\"]\n",
    "myEncoder = OneHotEncoder(sparse = False, handle_unknown='ignore')\n",
    "myEncoder.fit(users[columnsToEncode])\n",
    "\n",
    "users_d = users.drop(columnsToEncode, axis = 1)\n",
    "\n",
    "users = pd.concat([users_d,\n",
    "                   pd.DataFrame(myEncoder.transform(users[columnsToEncode]).astype(int),\n",
    "                   columns = myEncoder.get_feature_names(columnsToEncode))],\n",
    "                                                         axis=1).reindex()\n",
    "users = users.drop([\"zipcode\"], axis = 1)\n",
    "print(users.shape)\n",
    "users.head()"
   ]
  },
  {
   "cell_type": "markdown",
   "metadata": {},
   "source": [
    "# ε-greedy Approach Reaslisation"
   ]
  },
  {
   "cell_type": "code",
   "execution_count": 51,
   "metadata": {},
   "outputs": [],
   "source": [
    "def receive_history_statistics(history):\n",
    "    history_statistics = history[[\"movieid\", \"reward\"]].groupby(\"movieid\").agg({\"reward\": [\"mean\"]})\n",
    "    history_statistics.columns = [\"mean\"]\n",
    "    history_statistics[\"movieid\"] = history_statistics.index\n",
    "    history_statistics = history_statistics.reset_index(drop = True)\n",
    "    history_statistics = history_statistics.sort_values(\"mean\", ascending = False)\n",
    "    return history_statistics"
   ]
  },
  {
   "cell_type": "code",
   "execution_count": 57,
   "metadata": {},
   "outputs": [],
   "source": [
    "def epsilon_greedy_policy(history, epsilon):\n",
    "    \n",
    "    # Epsilon likelihood to explore\n",
    "    exploration = np.random.binomial(1, epsilon)\n",
    "    \n",
    "    # Exploration: recommend by random choice\n",
    "    if exploration == 1 or history.empty == True:\n",
    "        return np.random.choice(top_movies_index, replace = True)\n",
    "        \n",
    "    # Exploitation: recommend with highest rating\n",
    "    else:\n",
    "        history_statistics = receive_history_statistics(history)\n",
    "        return history_statistics.iloc[0][\"movieid\"]"
   ]
  },
  {
   "cell_type": "code",
   "execution_count": 83,
   "metadata": {},
   "outputs": [],
   "source": [
    "def ctr_epsilon_greedy_simulator(epsilon, epochs):\n",
    "    \n",
    "    np.random.seed(42)\n",
    "    history = filtered_ratings.iloc[0:0]\n",
    "    time_steps = 0\n",
    "    cumulative_rewards = 0\n",
    "    epsilon_ctr = []\n",
    "    \n",
    "    for epoch_iter in range(epochs):\n",
    "        \n",
    "        print(\"Epoch: \" + str(epoch_iter))\n",
    "\n",
    "        if epoch_iter == 0:\n",
    "            \n",
    "            # Start with filtered ratings first\n",
    "            ratings = filtered_ratings.copy()\n",
    "            \n",
    "            # Initiate unused_ratings\n",
    "            unused_ratings = pd.DataFrame(columns = [\"userid\", \"movieid\", \"rating\",\n",
    "                                                     \"timestamp\", \"reward\"])\n",
    "        else:\n",
    "            # Recycle unused data\n",
    "            ratings = unused_ratings.copy().reset_index(drop = True)\n",
    "            unused_ratings = pd.DataFrame(columns = [\"userid\", \"movieid\", \"rating\",\n",
    "                                                     \"timestamp\", \"reward\"])\n",
    "        \n",
    "        for i in range(len(ratings)):\n",
    "\n",
    "            if i % 5000 == 0:\n",
    "                print(\"Step \" + str(i))\n",
    "            \n",
    "            movie_id = ratings.loc[i, \"movieid\"]\n",
    "            ratings_reward = ratings.loc[i, \"reward\"]\n",
    "            chosen_arm_index = epsilon_greedy_policy(history, epsilon)\n",
    "            \n",
    "            if chosen_arm_index == movie_id:\n",
    "                \n",
    "                history = history.append(ratings.iloc[i])\n",
    "                time_steps += 1\n",
    "                cumulative_rewards += ratings_reward\n",
    "                epsilon_ctr.append(cumulative_rewards / time_steps)\n",
    "            \n",
    "            else:\n",
    "                \n",
    "                unused_ratings = unused_ratings.append(ratings.iloc[i])\n",
    "    \n",
    "    return {\"time_steps\": time_steps,\n",
    "            \"cumulative_rewards\": cumulative_rewards,\n",
    "            \"ctr\": epsilon_ctr}"
   ]
  },
  {
   "cell_type": "markdown",
   "metadata": {},
   "source": [
    "## ε = 0.3 (exploitation emphasis)"
   ]
  },
  {
   "cell_type": "code",
   "execution_count": 89,
   "metadata": {},
   "outputs": [
    {
     "name": "stdout",
     "output_type": "stream",
     "text": [
      "Epoch: 0\n",
      "Step 0\n",
      "Step 5000\n",
      "Step 10000\n",
      "Step 15000\n",
      "Step 20000\n",
      "Step 25000\n",
      "Step 30000\n",
      "Step 35000\n",
      "Step 40000\n",
      "Step 45000\n",
      "Step 50000\n",
      "Step 55000\n",
      "Step 60000\n",
      "Step 65000\n",
      "Step 70000\n",
      "Epoch: 1\n",
      "Step 0\n",
      "Step 5000\n",
      "Step 10000\n",
      "Step 15000\n",
      "Step 20000\n",
      "Step 25000\n",
      "Step 30000\n",
      "Step 35000\n",
      "Step 40000\n",
      "Step 45000\n",
      "Step 50000\n",
      "Step 55000\n",
      "Step 60000\n",
      "Step 65000\n",
      "Step 70000\n",
      "Epoch: 2\n",
      "Step 0\n",
      "Step 5000\n",
      "Step 10000\n",
      "Step 15000\n",
      "Step 20000\n",
      "Step 25000\n",
      "Step 30000\n",
      "Step 35000\n",
      "Step 40000\n",
      "Step 45000\n",
      "Step 50000\n",
      "Step 55000\n",
      "Step 60000\n",
      "Step 65000\n"
     ]
    }
   ],
   "source": [
    "simulation_epsilon_03 = ctr_epsilon_greedy_simulator(epsilon = 0.3, epochs = 3)"
   ]
  },
  {
   "cell_type": "code",
   "execution_count": 100,
   "metadata": {},
   "outputs": [
    {
     "data": {
      "text/plain": [
       "Text(0, 0.5, 'CTR')"
      ]
     },
     "execution_count": 100,
     "metadata": {},
     "output_type": "execute_result"
    },
    {
     "data": {
      "image/png": "[encoded data removed]",
      "text/plain": [
       "<Figure size 432x288 with 1 Axes>"
      ]
     },
     "metadata": {
      "needs_background": "light"
     },
     "output_type": "display_data"
    }
   ],
   "source": [
    "plt.plot(simulation_epsilon_03[\"ctr\"])\n",
    "plt.title(\"epsilon = 0.3\")\n",
    "plt.axhline(y = reward_mean, color = \"red\")\n",
    "plt.xlabel(\"Time step\")\n",
    "plt.ylabel(\"CTR\")"
   ]
  },
  {
   "cell_type": "markdown",
   "metadata": {},
   "source": [
    "## ε = 0.7 (exploration emphasis)"
   ]
  },
  {
   "cell_type": "code",
   "execution_count": 91,
   "metadata": {},
   "outputs": [
    {
     "name": "stdout",
     "output_type": "stream",
     "text": [
      "Epoch: 0\n",
      "Step 0\n",
      "Step 5000\n",
      "Step 10000\n",
      "Step 15000\n",
      "Step 20000\n",
      "Step 25000\n",
      "Step 30000\n",
      "Step 35000\n",
      "Step 40000\n",
      "Step 45000\n",
      "Step 50000\n",
      "Step 55000\n",
      "Step 60000\n",
      "Step 65000\n",
      "Step 70000\n",
      "Epoch: 1\n",
      "Step 0\n",
      "Step 5000\n",
      "Step 10000\n",
      "Step 15000\n",
      "Step 20000\n",
      "Step 25000\n",
      "Step 30000\n",
      "Step 35000\n",
      "Step 40000\n",
      "Step 45000\n",
      "Step 50000\n",
      "Step 55000\n",
      "Step 60000\n",
      "Step 65000\n",
      "Step 70000\n",
      "Epoch: 2\n",
      "Step 0\n",
      "Step 5000\n",
      "Step 10000\n",
      "Step 15000\n",
      "Step 20000\n",
      "Step 25000\n",
      "Step 30000\n",
      "Step 35000\n",
      "Step 40000\n",
      "Step 45000\n",
      "Step 50000\n",
      "Step 55000\n",
      "Step 60000\n",
      "Step 65000\n"
     ]
    }
   ],
   "source": [
    "simulation_epsilon_07 = ctr_epsilon_greedy_simulator(epsilon = 0.7, epochs = 3)"
   ]
  },
  {
   "cell_type": "code",
   "execution_count": 92,
   "metadata": {},
   "outputs": [
    {
     "data": {
      "text/plain": [
       "Text(0, 0.5, 'CTR')"
      ]
     },
     "execution_count": 92,
     "metadata": {},
     "output_type": "execute_result"
    },
    {
     "data": {
      "image/png": "[encoded data removed]",
      "text/plain": [
       "<Figure size 432x288 with 1 Axes>"
      ]
     },
     "metadata": {
      "needs_background": "light"
     },
     "output_type": "display_data"
    }
   ],
   "source": [
    "plt.plot(simulation_epsilon_07[\"ctr\"])\n",
    "plt.title(\"epsilon = 0.7\")\n",
    "plt.axhline(y = reward_mean, color = \"red\")\n",
    "plt.xlabel(\"Time step\")\n",
    "plt.ylabel(\"CTR\")"
   ]
  },
  {
   "cell_type": "code",
   "execution_count": 93,
   "metadata": {},
   "outputs": [
    {
     "data": {
      "text/plain": [
       "<matplotlib.legend.Legend at 0x7f96b4725c70>"
      ]
     },
     "execution_count": 93,
     "metadata": {},
     "output_type": "execute_result"
    },
    {
     "data": {
      "image/png": "[encoded data removed]",
      "text/plain": [
       "<Figure size 432x288 with 1 Axes>"
      ]
     },
     "metadata": {
      "needs_background": "light"
     },
     "output_type": "display_data"
    }
   ],
   "source": [
    "plt.plot(simulation_epsilon_03[\"ctr\"], label = \"epsilon = 0.3\")\n",
    "plt.plot(simulation_epsilon_07[\"ctr\"], label = \"epsilon = 0.7\")\n",
    "plt.axhline(y=reward_mean, color = \"red\")\n",
    "plt.xlabel(\"Time step\")\n",
    "plt.ylabel(\"CTR\")\n",
    "plt.legend()"
   ]
  },
  {
   "cell_type": "markdown",
   "metadata": {
    "id": "7N2CJWo55jxh"
   },
   "source": [
    "# LinUCB Disjoint Approach Realisation"
   ]
  },
  {
   "cell_type": "markdown",
   "metadata": {},
   "source": [
    "Realisation is referenced from [LinUCB disjoint realisation](https://github.com/kfoofw/bandit_simulations/blob/master/python/contextual_bandits/notebooks/LinUCB_hybrid.ipynb)."
   ]
  },
  {
   "cell_type": "code",
   "execution_count": 94,
   "metadata": {
    "id": "V8uP3dUS5jUq"
   },
   "outputs": [],
   "source": [
    "# Create class object for a single linear ucb disjoint arm\n",
    "class linucb_disjoint_arm():\n",
    "\n",
    "    def __init__(self, arm_index, d, alpha):\n",
    "\n",
    "        self.arm_index = arm_index\n",
    "        self.alpha = alpha\n",
    "\n",
    "        # A: (d x d) matrix = D.T * D + I\n",
    "        self.A = np.identity(d)\n",
    "\n",
    "        # b: (d x 1) response vector = D.T * c (in ridge regression formulation)\n",
    "        self.b = np.zeros([d,1])\n",
    "\n",
    "    def calc_UCB(self, x_array):\n",
    "        \n",
    "        # Find A inverse for ridge regression\n",
    "        A_inv = np.linalg.inv(self.A)\n",
    "\n",
    "        # Perform ridge regression to obtain estimate of covariate coefficients theta\n",
    "        # theta: (d x 1) dimension vector = A_inv * b\n",
    "        self.theta = np.dot(A_inv, self.b)\n",
    "\n",
    "        # UCB: (1 x 1) dimension vector = expected_reward + alpha * std_dev\n",
    "        expected_reward = np.dot(self.theta.T, x_array)\n",
    "        std_dev = np.sqrt(np.dot(x_array.T, np.dot(A_inv, x_array)))\n",
    "        UCB = expected_reward +  self.alpha * std_dev\n",
    "\n",
    "        return UCB\n",
    "\n",
    "    def reward_update(self, reward, x_array):\n",
    "        \n",
    "        # Update A which is (d * d) matrix.\n",
    "        self.A += np.dot(x_array, x_array.T)\n",
    "\n",
    "        # Update b which is (d x 1) vector\n",
    "        self.b += reward * x_array"
   ]
  },
  {
   "cell_type": "code",
   "execution_count": 95,
   "metadata": {
    "id": "935EHjNe59eb"
   },
   "outputs": [],
   "source": [
    "class linucb_disjoint_policy():\n",
    "\n",
    "    def __init__(self, K_arms, d, alpha):\n",
    "        \n",
    "        self.K_arms = K_arms\n",
    "        self.linucb_arms = [linucb_disjoint_arm(arm_index = i, d = d, alpha = alpha) for i in range(K_arms)]\n",
    "\n",
    "    def select_arm(self, x_array):\n",
    "        \n",
    "        highest_UCB = -1\n",
    "\n",
    "        # Track index of arms to be selected\n",
    "        candidate_arms = []\n",
    "\n",
    "        for arm_index in range(self.K_arms):\n",
    "            \n",
    "            # Calculate UCB based on each arm using current covariates at time t\n",
    "            arm_UCB = self.linucb_arms[arm_index].calc_UCB(x_array)\n",
    "\n",
    "            # If current arm's UCB is higher than current highest_UCB\n",
    "            if arm_UCB > highest_UCB:\n",
    "\n",
    "                # Set new highest_ucb\n",
    "                highest_UCB = arm_UCB\n",
    "\n",
    "                # Reset candidate_arms list with new entry based on current arm\n",
    "                candidate_arms = [arm_index]\n",
    "\n",
    "            # If there is a tie, append to candidate_arms\n",
    "            if arm_UCB == highest_UCB:\n",
    "\n",
    "                candidate_arms.append(arm_index)\n",
    "\n",
    "        # Choose based on candidate_arms randomly\n",
    "        chosen_arm = np.random.choice(candidate_arms)\n",
    "\n",
    "        return chosen_arm\n",
    "\n",
    "    def store_arm_index(self, arms_index_array):\n",
    "\n",
    "        # Loop through all arms to store their indices\n",
    "        for i in range(self.K_arms):\n",
    "\n",
    "            self.linucb_arms[i].arm_index = arms_index_array[i]"
   ]
  },
  {
   "cell_type": "code",
   "execution_count": 96,
   "metadata": {
    "id": "Wc6kuDFW8-Xe"
   },
   "outputs": [],
   "source": [
    "def ctr_disjoint_simulator(K_arms, d, alpha, epochs, top_movies_index, filtered_ratings):\n",
    "    \n",
    "    np.random.seed(42)\n",
    "    \n",
    "    # Initiate policy\n",
    "    linucb_disjoint_policy_object = linucb_disjoint_policy(K_arms = K_arms, d = d, alpha = alpha)\n",
    "\n",
    "    # Store specific arm_index\n",
    "    linucb_disjoint_policy_object.store_arm_index(top_movies_index.to_numpy())\n",
    "\n",
    "    # Instantiate trackers\n",
    "    time_steps = 0\n",
    "    cumulative_rewards = 0\n",
    "    ctr = []\n",
    "\n",
    "    for epoch_iter in range(epochs):\n",
    "\n",
    "        print(\"Epoch: \" + str(epoch_iter))\n",
    "\n",
    "        if epoch_iter == 0:\n",
    "            \n",
    "            # Start with filtered ratings first\n",
    "            ratings = filtered_ratings.copy()\n",
    "            \n",
    "            # Initiate unused_ratings\n",
    "            unused_ratings = pd.DataFrame(columns = [\"userid\", \"movieid\", \"rating\",\n",
    "                                                     \"timestamp\", \"reward\"])\n",
    "        else:\n",
    "            # Recycle unused data\n",
    "            ratings = unused_ratings.copy().reset_index(drop = True)\n",
    "            unused_ratings = pd.DataFrame(columns = [\"userid\", \"movieid\", \"rating\",\n",
    "                                                     \"timestamp\", \"reward\"])\n",
    "\n",
    "        for i in range(len(ratings)):\n",
    "            \n",
    "            if i % 5000 == 0:\n",
    "                print(\"Step \" + str(i))\n",
    "\n",
    "            user_id = ratings.loc[i, \"userid\"]\n",
    "            movie_id = ratings.loc[i, \"movieid\"]\n",
    "\n",
    "            # x: User features\n",
    "            users_x_array = np.array(users.query(\"userid == @user_id\").drop(\"userid\", \n",
    "                                                                              axis = 1))\n",
    "            \n",
    "            # Reshape vector from (1, 28) to (28, 1) for calculation purposes\n",
    "            users_x_array = users_x_array.reshape(28, 1)\n",
    "\n",
    "            ratings_reward = ratings.loc[i, \"reward\"]\n",
    "\n",
    "            # Find policy's chosen arm based on input covariates at current time step\n",
    "            chosen_arm_index = linucb_disjoint_policy_object.select_arm(users_x_array)\n",
    "\n",
    "            # Check if arm_index is the same as data_arm (ie same actions were chosen)\n",
    "            if linucb_disjoint_policy_object.linucb_arms[chosen_arm_index].arm_index  == movie_id:\n",
    "\n",
    "                # Use reward information for the chosen arm to update\n",
    "                linucb_disjoint_policy_object.linucb_arms[chosen_arm_index].reward_update(ratings_reward, \n",
    "                                                                                          users_x_array)\n",
    "                \n",
    "                # For CTR calculation\n",
    "                time_steps += 1\n",
    "                cumulative_rewards += ratings_reward\n",
    "                ctr.append(cumulative_rewards / time_steps)\n",
    "\n",
    "            else:\n",
    "                \n",
    "                # Recycle data\n",
    "                unused_ratings = unused_ratings.append(ratings.iloc[i])\n",
    "\n",
    "    return {\"time_steps\": time_steps,\n",
    "            \"cumulative_rewards\": cumulative_rewards,\n",
    "            \"ctr\": ctr,\n",
    "            \"policy\": linucb_disjoint_policy_object}"
   ]
  },
  {
   "cell_type": "markdown",
   "metadata": {},
   "source": [
    "## LinUCB Disjoint with α = 0.5 (exploitation focus)"
   ]
  },
  {
   "cell_type": "code",
   "execution_count": 97,
   "metadata": {
    "colab": {
     "base_uri": "https://localhost:8080/",
     "height": 360
    },
    "id": "hr-TahX5-gVX",
    "outputId": "b278f3a5-8972-4459-f23c-064004a5a7c1"
   },
   "outputs": [
    {
     "name": "stdout",
     "output_type": "stream",
     "text": [
      "Epoch: 0\n",
      "Step 0\n",
      "Step 5000\n",
      "Step 10000\n",
      "Step 15000\n",
      "Step 20000\n",
      "Step 25000\n",
      "Step 30000\n",
      "Step 35000\n",
      "Step 40000\n",
      "Step 45000\n",
      "Step 50000\n",
      "Step 55000\n",
      "Step 60000\n",
      "Step 65000\n",
      "Step 70000\n",
      "Epoch: 1\n",
      "Step 0\n",
      "Step 5000\n",
      "Step 10000\n",
      "Step 15000\n",
      "Step 20000\n",
      "Step 25000\n",
      "Step 30000\n",
      "Step 35000\n",
      "Step 40000\n",
      "Step 45000\n",
      "Step 50000\n",
      "Step 55000\n",
      "Step 60000\n",
      "Step 65000\n",
      "Step 70000\n",
      "Epoch: 2\n",
      "Step 0\n",
      "Step 5000\n",
      "Step 10000\n",
      "Step 15000\n",
      "Step 20000\n",
      "Step 25000\n",
      "Step 30000\n",
      "Step 35000\n",
      "Step 40000\n",
      "Step 45000\n",
      "Step 50000\n",
      "Step 55000\n",
      "Step 60000\n",
      "Step 65000\n"
     ]
    }
   ],
   "source": [
    "alpha_value = 0.5\n",
    "simulation_disjoint_alpha_05 = ctr_disjoint_simulator(K_arms = n, d = 28,\n",
    "                                                      alpha = alpha_value, \n",
    "                                                      epochs = 3,\n",
    "                                                      top_movies_index = top_movies_index,\n",
    "                                                      filtered_ratings = filtered_ratings)"
   ]
  },
  {
   "cell_type": "code",
   "execution_count": 99,
   "metadata": {},
   "outputs": [
    {
     "data": {
      "text/plain": [
       "<matplotlib.legend.Legend at 0x7f96b4243d90>"
      ]
     },
     "execution_count": 99,
     "metadata": {},
     "output_type": "execute_result"
    },
    {
     "data": {
      "image/png": "[encoded data removed]",
      "text/plain": [
       "<Figure size 432x288 with 1 Axes>"
      ]
     },
     "metadata": {
      "needs_background": "light"
     },
     "output_type": "display_data"
    }
   ],
   "source": [
    "plt.plot(simulation_disjoint_alpha_05[\"ctr\"], label = \"alpha = 0.5\")\n",
    "plt.plot(simulation_epsilon_03[\"ctr\"], label = \"epsilon = 0.3\")\n",
    "plt.plot(simulation_epsilon_07[\"ctr\"], label = \"epsilon = 0.7\")\n",
    "plt.axhline(y = reward_mean, color = \"red\")\n",
    "plt.title(\"alpha = \" + str(alpha_value))\n",
    "plt.xlabel(\"Time step\")\n",
    "plt.ylabel(\"CTR\")\n",
    "plt.legend()"
   ]
  },
  {
   "cell_type": "markdown",
   "metadata": {},
   "source": [
    "## LinUCB Disjoint with α = 1.5 (exploration focus)"
   ]
  },
  {
   "cell_type": "code",
   "execution_count": 293,
   "metadata": {},
   "outputs": [
    {
     "name": "stdout",
     "output_type": "stream",
     "text": [
      "Epoch: 0\n",
      "Step 0\n",
      "Step 5000\n",
      "Step 10000\n",
      "Step 15000\n",
      "Step 20000\n",
      "Step 25000\n",
      "Step 30000\n",
      "Step 35000\n",
      "Step 40000\n",
      "Step 45000\n",
      "Step 50000\n",
      "Step 55000\n",
      "Step 60000\n",
      "Step 65000\n",
      "Step 70000\n",
      "Epoch: 1\n",
      "Step 0\n",
      "Step 5000\n",
      "Step 10000\n",
      "Step 15000\n",
      "Step 20000\n",
      "Step 25000\n",
      "Step 30000\n",
      "Step 35000\n",
      "Step 40000\n",
      "Step 45000\n",
      "Step 50000\n",
      "Step 55000\n",
      "Step 60000\n",
      "Step 65000\n",
      "Step 70000\n"
     ]
    }
   ],
   "source": [
    "alpha_value = 1.5\n",
    "simulation_disjoint_alpha_15 = ctr_disjoint_simulator(K_arms = n, d = 28,\n",
    "                                                      alpha = alpha_value, \n",
    "                                                      epochs = 2,\n",
    "                                                      top_movies_index = top_movies_index,\n",
    "                                                      filtered_ratings = filtered_ratings)"
   ]
  },
  {
   "cell_type": "code",
   "execution_count": 294,
   "metadata": {},
   "outputs": [
    {
     "data": {
      "text/plain": [
       "Text(0.5, 1.0, 'alpha = 1.5')"
      ]
     },
     "execution_count": 294,
     "metadata": {},
     "output_type": "execute_result"
    },
    {
     "data": {
      "image/png": "[encoded data removed]",
      "text/plain": [
       "<Figure size 432x288 with 1 Axes>"
      ]
     },
     "metadata": {
      "needs_background": "light"
     },
     "output_type": "display_data"
    }
   ],
   "source": [
    "plt.plot(simulation_disjoint_alpha_15[\"ctr\"])\n",
    "plt.axhline(y=reward_mean, color = \"red\")\n",
    "plt.title(\"alpha = \" + str(alpha_value))"
   ]
  },
  {
   "cell_type": "markdown",
   "metadata": {
    "id": "vbnKG6X-A-iN"
   },
   "source": [
    "# LinUCB Hybrid Approach Realisation"
   ]
  },
  {
   "cell_type": "markdown",
   "metadata": {},
   "source": [
    "Realisation is referenced from [LinUCB hybrid realisation](https://github.com/kfoofw/bandit_simulations/blob/master/python/contextual_bandits/notebooks/LinUCB_hybrid.ipynb)."
   ]
  },
  {
   "cell_type": "code",
   "execution_count": 351,
   "metadata": {
    "id": "wEhIRzdcAi1F"
   },
   "outputs": [],
   "source": [
    "class linucb_hybrid_arm():\n",
    "    \n",
    "    # Shared features coefficients beta_hat are calculated\n",
    "    # outside of each arm (since they are shared features)\n",
    "\n",
    "    def __init__(self, d, k, alpha):\n",
    "\n",
    "        # A: (d * d) matrix = D.T * D + I\n",
    "        self.A = np.identity(d)\n",
    "\n",
    "        # B: (d * k) matrix = D.T * c\n",
    "        self.B = np.zeros([d, k])\n",
    "\n",
    "        # b: (d * 1) response vector = D.T * c\n",
    "        self.b = np.zeros([d, 1])\n",
    "\n",
    "        self.alpha = alpha\n",
    "\n",
    "    def init_arm_features(self, arm_index, arm_features_array):\n",
    "        # Track arm_index\n",
    "        self.index = arm_index\n",
    "\n",
    "        # arm_features to be used with x_array using outer product\n",
    "        # to find individual arm z_features\n",
    "        self.arm_features = arm_features_array\n",
    "\n",
    "\n",
    "    def calc_UCB(self, x_array, A_node_inv, beta_hat):\n",
    "        \n",
    "        # beta_hat is the coefficients for shared features: (k * 1) vector\n",
    "        # A_node_inv: (k * k) inverse matrix of A_node (shared features)\n",
    "\n",
    "        # z_array: (k by d) matrix = arm_features * x_array\n",
    "        z_array = np.outer(self.arm_features, x_array).reshape(-1, 1)\n",
    "\n",
    "        # Find A inverse for ridge regression (arm-specific)\n",
    "        A_inv = np.linalg.inv(self.A)\n",
    "\n",
    "        # theta_arm = A_inv * (b - B * beta_hat)\n",
    "        self.theta = np.dot(A_inv, (self.b - np.dot(self.B, beta_hat)))\n",
    "\n",
    "        # std deviation\n",
    "        pr1 = np.dot(z_array.T, np.dot(A_node_inv, z_array))\n",
    "        pr2 = np.dot(z_array.T,\n",
    "                     np.dot(A_node_inv, np.dot(self.B.T,\n",
    "                                               np.dot(A_inv, x_array))))\n",
    "        pr3 = np.dot(x_array.T, np.dot(A_inv, x_array))\n",
    "        pr4 = np.dot(x_array.T,\n",
    "                     np.dot(A_inv,\n",
    "                            np.dot(self.B,\n",
    "                                   np.dot(A_node_inv,\n",
    "                                          np.dot(self.B.T,\n",
    "                                                 np.dot(A_inv, x_array))))))\n",
    "\n",
    "        s = pr1 - 2 * pr2 + pr3 + pr4\n",
    "\n",
    "\n",
    "        # UCB = z_array.T * beta_hat + x_array.T * theta + alpha * sqrt(std_dev)\n",
    "        UCB = np.dot(z_array.T, beta_hat) + np.dot(x_array.T, self.theta) \\\n",
    "              + self.alpha * np.sqrt(s)\n",
    "\n",
    "        return UCB\n",
    "\n",
    "    def reward_update(self, reward, x_array, z_array):\n",
    "\n",
    "        # Update A which is (d * d) matrix.\n",
    "        self.A += np.dot(x_array, x_array.T)\n",
    "\n",
    "        # Update B which is (d * k) matrix.\n",
    "        self.B += np.dot(x_array, z_array.T)\n",
    "\n",
    "        # Update b which is (d * 1) vector\n",
    "        # reward is scalar\n",
    "        self.b += reward * x_array"
   ]
  },
  {
   "cell_type": "code",
   "execution_count": 352,
   "metadata": {
    "id": "f_CNBiFGBLCU"
   },
   "outputs": [],
   "source": [
    "class linucb_hybrid_policy():\n",
    "\n",
    "    def __init__(self, K_arms, d, k, alpha):\n",
    "        \n",
    "        self.K_arms = K_arms\n",
    "        self.linucb_arms = [linucb_hybrid_arm(d = d, k = k, alpha = alpha) for i in range(K_arms)]\n",
    "\n",
    "        # shared A_node: (k * k) matrix\n",
    "        self.A_node = np.identity(k)\n",
    "\n",
    "        # shared b_node: (k * 1) corresponding response vector.\n",
    "        self.b_node = np.zeros([k, 1])\n",
    "\n",
    "    def store_arm_features(self, arms_features_array):\n",
    "\n",
    "        # Loop through all arms to store the individual arms\n",
    "        for i in range(self.K_arms):\n",
    "\n",
    "            self.linucb_arms[i].init_arm_features(arm_index = arms_features_array[i, 0],\n",
    "                                                  arm_features_array = arms_features_array[i, 1:])\n",
    "\n",
    "    def select_arm(self, x_array):\n",
    "        \n",
    "        highest_UCB = -1\n",
    "\n",
    "        # Create inverse of A_node\n",
    "        A_node_inv = np.linalg.inv(self.A_node)\n",
    "\n",
    "\n",
    "        # beta_hat: (k * 1) vector = A_node_inv * b_node\n",
    "        beta_hat = np.dot(A_node_inv, self.b_node)\n",
    "\n",
    "        # Track index of arms to be selected\n",
    "        candidate_arms = []\n",
    "\n",
    "        for arm_index in range(self.K_arms):\n",
    "            \n",
    "            # Calculate UCB based on each arm using current covariates at time t\n",
    "            arm_UCB = self.linucb_arms[arm_index].calc_UCB(x_array, A_node_inv, beta_hat)\n",
    "\n",
    "            if arm_UCB > highest_UCB:\n",
    "\n",
    "                # Set new highest_UCB\n",
    "                highest_UCB = arm_UCB\n",
    "\n",
    "                # Reset candidate_arms list with new entry based on current arm\n",
    "                candidate_arms = [arm_index]\n",
    "\n",
    "            # If there is a tie, append to candidate_arms\n",
    "            if arm_UCB == highest_UCB:\n",
    "\n",
    "                candidate_arms.append(arm_index)\n",
    "\n",
    "        # Choose based on candidate_arms randomly\n",
    "        chosen_arm_index = np.random.choice(candidate_arms)\n",
    "\n",
    "        return chosen_arm_index\n",
    "\n",
    "    def update_shared_features_matrices_phase1(self, chosen_arm_B, chosen_arm_A, chosen_arm_b):\n",
    "        \n",
    "        # Use chosen arm's B: (d*k), A: (d*d), b: (k*1) for update of shared feature matrices\n",
    "        chosen_arm_A_inv = np.linalg.inv(chosen_arm_A)\n",
    "        \n",
    "        # A_node = A_node + B.T * A_node_inv * B\n",
    "        self.A_node += np.dot(chosen_arm_B.T, np.dot(chosen_arm_A_inv, chosen_arm_B))\n",
    "        \n",
    "        # b_node = b_node + B.T * A_node_inv * b\n",
    "        self.b_node += np.dot(chosen_arm_B.T, np.dot(chosen_arm_A_inv, chosen_arm_b))\n",
    "\n",
    "    def update_shared_features_matrices_phase2(self, z_array, reward, chosen_arm_B, chosen_arm_A, chosen_arm_b):\n",
    "\n",
    "        chosen_arm_A_inv = np.linalg.inv(chosen_arm_A)\n",
    "        \n",
    "        # A_node = A_node + z * z.T - B.T * A_node_inv * B\n",
    "        self.A_node += np.dot(z_array, z_array.T) - np.dot(chosen_arm_B.T, np.dot(chosen_arm_A_inv, chosen_arm_B))\n",
    "        \n",
    "        # b_node = b_node + reward * z - B.t * A_node_inv * b\n",
    "        self.b_node += reward * z_array - np.dot(chosen_arm_B.T, np.dot(chosen_arm_A_inv, chosen_arm_b))"
   ]
  },
  {
   "cell_type": "code",
   "execution_count": 357,
   "metadata": {
    "id": "VFu1EOvJBOCc"
   },
   "outputs": [],
   "source": [
    "def ctr_hybrid_simulator(K_arms, d, k, alpha, epochs, top_movies_index, top_movies, filtered_ratings):\n",
    "    \n",
    "    np.random.seed(42)\n",
    "    \n",
    "    # Initiate policy\n",
    "    linucb_hybrid_policy_object = linucb_hybrid_policy(K_arms = K_arms, d = d,\n",
    "                                                       k = k, alpha = alpha)\n",
    "\n",
    "    # Store arm specific features\n",
    "    linucb_hybrid_policy_object.store_arm_features(top_movies.to_numpy())\n",
    "\n",
    "    # Instantiate trackers\n",
    "    time_steps = 0\n",
    "    cumulative_rewards = 0\n",
    "    ctr = []\n",
    "\n",
    "    for epoch_iter in range(epochs):\n",
    "\n",
    "        print(\"Epoch: \" + str(epoch_iter))\n",
    "\n",
    "        if epoch_iter == 0:\n",
    "            \n",
    "            # Start with filtered ratings first\n",
    "            ratings = filtered_ratings.copy()\n",
    "            \n",
    "            # Initiate unused_ratings dataframe\n",
    "            unused_ratings = pd.DataFrame(columns = [\"userid\", \"movieid\", \"rating\",\n",
    "                                                     \"timestamp\", \"reward\"])\n",
    "\n",
    "        else:\n",
    "            \n",
    "            # Recycle unused data\n",
    "            ratings = unused_ratings.copy().reset_index(drop = True)\n",
    "            unused_ratings = pd.DataFrame(columns = [\"userid\", \"movieid\", \"rating\",\n",
    "                                                     \"timestamp\", \"reward\"])\n",
    "\n",
    "        for i in range(len(ratings)):\n",
    "            \n",
    "            if i % 5000 == 0:\n",
    "                print(\"step \" + str(i))\n",
    "            \n",
    "            user_id = ratings.loc[i, \"userid\"]\n",
    "            movie_id = ratings.loc[i, \"movieid\"]\n",
    "\n",
    "            # x_array: User features\n",
    "            users_x_array = np.array(users.query(\"userid == @user_id\").drop(\"userid\", \n",
    "                                                                              axis = 1))\n",
    "            \n",
    "            # Reshape vector from (1, 28) to (28, 1) for calculation purposes\n",
    "            users_x_array = users_x_array.reshape(28, 1)\n",
    "\n",
    "            ratings_reward = ratings.loc[i, \"reward\"]\n",
    "\n",
    "            # Find policy's chosen arm based on input covariates at current time step\n",
    "            chosen_arm_index = linucb_hybrid_policy_object.select_arm(users_x_array)\n",
    "\n",
    "\n",
    "            # Check if arm_index is the same as ratings_arm (ie same actions were chosen)\n",
    "            if linucb_hybrid_policy_object.linucb_arms[chosen_arm_index].index  == movie_id:\n",
    "\n",
    "\n",
    "                # Phase 1: Update shared feature matrices A_node, b_node in policy object\n",
    "                linucb_hybrid_policy_object.update_shared_features_matrices_phase1(\n",
    "                    linucb_hybrid_policy_object.linucb_arms[chosen_arm_index].B,\n",
    "                    linucb_hybrid_policy_object.linucb_arms[chosen_arm_index].A,\n",
    "                    linucb_hybrid_policy_object.linucb_arms[chosen_arm_index].b)\n",
    "\n",
    "                # Extract chosen_arm arm_features to create z_array\n",
    "                ratings_z_array = np.outer(linucb_hybrid_policy_object.linucb_arms[chosen_arm_index].arm_features, \n",
    "                                        users_x_array).reshape(-1,1)\n",
    "\n",
    "                # Use reward information for the chosen arm to update\n",
    "                linucb_hybrid_policy_object.linucb_arms[chosen_arm_index].reward_update(ratings_reward, \n",
    "                                                                                        users_x_array, \n",
    "                                                                                        ratings_z_array)\n",
    "\n",
    "                # Phase 2: Update shared feature matrices A_node, b_node in policy object\n",
    "                linucb_hybrid_policy_object.update_shared_features_matrices_phase2(ratings_z_array, ratings_reward,\n",
    "                                                       linucb_hybrid_policy_object.linucb_arms[chosen_arm_index].B,\n",
    "                                                       linucb_hybrid_policy_object.linucb_arms[chosen_arm_index].A,\n",
    "                                                       linucb_hybrid_policy_object.linucb_arms[chosen_arm_index].b)\n",
    "\n",
    "                # For CTR calculation\n",
    "                time_steps += 1\n",
    "                cumulative_rewards += ratings_reward\n",
    "                ctr.append(cumulative_rewards / time_steps)\n",
    "\n",
    "            else:\n",
    "                \n",
    "                # Recycle data\n",
    "                unused_ratings = unused_ratings.append(ratings.iloc[i])\n",
    "\n",
    "    return {\"time_steps\": time_steps,\n",
    "            \"cumulative_rewards\": cumulative_rewards,\n",
    "            \"ctr\": ctr,\n",
    "            \"policy\":linucb_hybrid_policy_object}"
   ]
  },
  {
   "cell_type": "markdown",
   "metadata": {},
   "source": [
    "## LinUCB Hybrid with α = 0.5 (exploitation focus)"
   ]
  },
  {
   "cell_type": "code",
   "execution_count": 358,
   "metadata": {
    "colab": {
     "base_uri": "https://localhost:8080/",
     "height": 1000
    },
    "id": "0issYSsTL2ri",
    "outputId": "9d97e283-f378-438d-d28f-fecf82d0f773"
   },
   "outputs": [
    {
     "name": "stdout",
     "output_type": "stream",
     "text": [
      "Epoch: 0\n",
      "step 0\n",
      "step 5000\n",
      "step 10000\n",
      "step 15000\n",
      "step 20000\n",
      "step 25000\n",
      "step 30000\n",
      "step 35000\n",
      "step 40000\n",
      "step 45000\n",
      "step 50000\n",
      "step 55000\n",
      "step 60000\n",
      "step 65000\n",
      "step 70000\n",
      "Epoch: 1\n",
      "step 0\n",
      "step 5000\n",
      "step 10000\n",
      "step 15000\n",
      "step 20000\n",
      "step 25000\n",
      "step 30000\n",
      "step 35000\n",
      "step 40000\n",
      "step 45000\n",
      "step 50000\n",
      "step 55000\n",
      "step 60000\n",
      "step 65000\n",
      "step 70000\n"
     ]
    }
   ],
   "source": [
    "alpha_value = 0.5\n",
    "simulation_hybrid_alpha_05 = ctr_hybrid_simulator(K_arms = n, d = 28, k = 28 * 18,\n",
    "                                                  alpha = alpha_value, epochs = 2,\n",
    "                                                  top_movies_index = top_movies_index, \n",
    "                                                  top_movies = top_movies,\n",
    "                                                  filtered_ratings = filtered_ratings)"
   ]
  },
  {
   "cell_type": "code",
   "execution_count": 359,
   "metadata": {
    "id": "SQYP8Apty_A9"
   },
   "outputs": [
    {
     "data": {
      "text/plain": [
       "Text(0.5, 1.0, 'alpha = 0.5')"
      ]
     },
     "execution_count": 359,
     "metadata": {},
     "output_type": "execute_result"
    },
    {
     "data": {
      "image/png": "[encoded data removed]",
      "text/plain": [
       "<Figure size 432x288 with 1 Axes>"
      ]
     },
     "metadata": {
      "needs_background": "light"
     },
     "output_type": "display_data"
    }
   ],
   "source": [
    "plt.plot(simulation_hybrid_alpha_05[\"ctr\"])\n",
    "plt.axhline(y=reward_mean, color = \"red\")\n",
    "plt.title(\"alpha = \" + str(alpha_value))"
   ]
  },
  {
   "cell_type": "markdown",
   "metadata": {},
   "source": [
    "## LinUCB Hybrid with α = 1.5 (exploration focus)"
   ]
  },
  {
   "cell_type": "code",
   "execution_count": 360,
   "metadata": {},
   "outputs": [
    {
     "name": "stdout",
     "output_type": "stream",
     "text": [
      "Epoch: 0\n",
      "step 0\n",
      "step 5000\n",
      "step 10000\n",
      "step 15000\n",
      "step 20000\n",
      "step 25000\n",
      "step 30000\n",
      "step 35000\n",
      "step 40000\n",
      "step 45000\n",
      "step 50000\n",
      "step 55000\n",
      "step 60000\n",
      "step 65000\n",
      "step 70000\n",
      "Epoch: 1\n",
      "step 0\n",
      "step 5000\n",
      "step 10000\n",
      "step 15000\n",
      "step 20000\n",
      "step 25000\n",
      "step 30000\n",
      "step 35000\n",
      "step 40000\n",
      "step 45000\n",
      "step 50000\n",
      "step 55000\n",
      "step 60000\n",
      "step 65000\n",
      "step 70000\n"
     ]
    }
   ],
   "source": [
    "alpha_value = 1.5\n",
    "simulation_hybrid_alpha_15 = ctr_hybrid_simulator(K_arms = n, d = 28, k = 28 * 18,\n",
    "                                                  alpha = alpha_value, epochs = 2,\n",
    "                                                  top_movies_index = top_movies_index, \n",
    "                                                  top_movies = top_movies,\n",
    "                                                  filtered_ratings = filtered_ratings)"
   ]
  },
  {
   "cell_type": "code",
   "execution_count": 361,
   "metadata": {},
   "outputs": [
    {
     "data": {
      "text/plain": [
       "Text(0.5, 1.0, 'alpha = 1.5')"
      ]
     },
     "execution_count": 361,
     "metadata": {},
     "output_type": "execute_result"
    },
    {
     "data": {
      "image/png": "[encoded data removed]",
      "text/plain": [
       "<Figure size 432x288 with 1 Axes>"
      ]
     },
     "metadata": {
      "needs_background": "light"
     },
     "output_type": "display_data"
    }
   ],
   "source": [
    "plt.plot(simulation_hybrid_alpha_15[\"ctr\"])\n",
    "plt.axhline(y=reward_mean, color = \"red\")\n",
    "plt.title(\"alpha = \" + str(alpha_value))"
   ]
  },
  {
   "cell_type": "markdown",
   "metadata": {},
   "source": [
    "## Results Comparison between ε-greedy and LinUCB"
   ]
  },
  {
   "cell_type": "code",
   "execution_count": 366,
   "metadata": {},
   "outputs": [
    {
     "data": {
      "text/plain": [
       "<matplotlib.legend.Legend at 0x7fb5ff9f83d0>"
      ]
     },
     "execution_count": 366,
     "metadata": {},
     "output_type": "execute_result"
    },
    {
     "data": {
      "image/png": "[encoded data removed]",
      "text/plain": [
       "<Figure size 720x720 with 1 Axes>"
      ]
     },
     "metadata": {
      "needs_background": "light"
     },
     "output_type": "display_data"
    }
   ],
   "source": [
    "plt.figure(figsize=(10, 10))\n",
    "plt.plot(simulation_hybrid_alpha_05[\"ctr\"], label = \"linucb-hybrid alpha = 0.5\")\n",
    "plt.plot(simulation_disjoint_alpha_05[\"ctr\"], label = \"linucb-disjoint alpha = 0.5\")\n",
    "plt.plot(simulation_hybrid_alpha_15[\"ctr\"], label = \"linucb-hybrid alpha = 1.5\")\n",
    "plt.plot(simulation_disjoint_alpha_15[\"ctr\"], label = \"linucb-disjoint alpha = 1.5\")\n",
    "plt.plot(epsilon_ctr_01[:len(simulation_hybrid_alpha_15[\"ctr\"])], label = \"epsilon = 0.1\")\n",
    "plt.plot(epsilon_ctr_05[:len(simulation_hybrid_alpha_15[\"ctr\"])], label = \"epsilon = 0.5\")\n",
    "plt.axhline(y=reward_mean, color = \"cyan\")\n",
    "plt.legend()"
   ]
  },
  {
   "cell_type": "markdown",
   "metadata": {},
   "source": [
    "# Thompson Sampling for Contextual Bandits"
   ]
  },
  {
   "cell_type": "markdown",
   "metadata": {},
   "source": [
    "The algorithm for Thomspon Sampling for Contextual Bandits is described at [(Agrawal et al., 2013)](https://proceedings.mlr.press/v28/agrawal13.pdf)."
   ]
  },
  {
   "cell_type": "code",
   "execution_count": 39,
   "metadata": {},
   "outputs": [],
   "source": [
    "# Create class object for a single thomspon sampling contextual arm\n",
    "class thompson_sampling_contextual_arm():\n",
    "\n",
    "    def __init__(self, arm_index, d, R, epsilon, delta):\n",
    "\n",
    "        self.arm_index = arm_index\n",
    "        \n",
    "        # mu: (d x 1) matrix\n",
    "        self.mu = np.zeros([d, 1])\n",
    "\n",
    "        # B: (d x d) matrix\n",
    "        self.B = np.identity(d)\n",
    "\n",
    "        # f: (d x 1) matrix\n",
    "        self.f = np.zeros([d, 1])\n",
    "        \n",
    "        # v: coefficient at the std for mu draw from Gaussian distribution\n",
    "        self.v = R * np.sqrt(24 / epsilon * d * np.log(1 / delta))\n",
    "\n",
    "    def draw_mu(self, x_array):\n",
    "        \n",
    "        # B_inv: inverse matrix of B\n",
    "        B_inv = np.linalg.inv(self.B)\n",
    "        v_sq = self.v * self.v\n",
    "        \n",
    "        # Draw mu from Gaussian distribution with parameters mu and v_sq * B_inv\n",
    "        mu_drawn = np.random.multivariate_normal(self.mu.flat, v_sq * B_inv)\n",
    "        arm_reward = np.dot(x_array.T, mu_drawn)\n",
    "        \n",
    "        return arm_reward\n",
    "\n",
    "    def reward_update(self, reward, x_array):\n",
    "        \n",
    "        # Update B\n",
    "        self.B += np.dot(x_array, x_array.T)\n",
    "\n",
    "        # Update f\n",
    "        self.f += reward * x_array\n",
    "        \n",
    "        # Update mu\n",
    "        B_inv = np.linalg.inv(self.B)\n",
    "        self.mu = np.dot(B_inv, self.f)"
   ]
  },
  {
   "cell_type": "code",
   "execution_count": 40,
   "metadata": {},
   "outputs": [],
   "source": [
    "class thompson_sampling_contextual_policy():\n",
    "\n",
    "    def __init__(self, K_arms, d, R, epsilon, delta): #self, arm_index, mu, d, R, epsilon, delta\n",
    "        \n",
    "        self.K_arms = K_arms\n",
    "        self.tsc_arms = [thompson_sampling_contextual_arm(arm_index = i, \n",
    "                                                          d = d, \n",
    "                                                          R = R,\n",
    "                                                          epsilon = epsilon,\n",
    "                                                          delta = delta) for i in range(K_arms)]\n",
    "\n",
    "    def select_arm(self, x_array):\n",
    "        \n",
    "        highest_reward = -1\n",
    "\n",
    "        # Track index of arms to be selected\n",
    "        candidate_arms = []\n",
    "\n",
    "        for arm_index in range(self.K_arms):\n",
    "            \n",
    "            # Calculate UCB based on each arm using current covariates at time t\n",
    "            arm_reward = self.tsc_arms[arm_index].draw_mu(x_array)\n",
    "\n",
    "            # If current arm's UCB is higher than current highest_UCB\n",
    "            if arm_reward > highest_reward:\n",
    "\n",
    "                # Set new highest_ucb\n",
    "                highest_reward = arm_reward\n",
    "\n",
    "                # Reset candidate_arms list with new entry based on current arm\n",
    "                candidate_arms = [arm_index]\n",
    "\n",
    "            # If there is a tie, append to candidate_arms\n",
    "            if arm_reward == highest_reward:\n",
    "\n",
    "                candidate_arms.append(arm_index)\n",
    "\n",
    "        # Choose based on candidate_arms randomly\n",
    "        chosen_arm = np.random.choice(candidate_arms)\n",
    "\n",
    "        return chosen_arm\n",
    "\n",
    "    def store_arm_index(self, arms_index_array):\n",
    "\n",
    "        # Loop through all arms to store their indices\n",
    "        for i in range(self.K_arms):\n",
    "\n",
    "            self.tsc_arms[i].arm_index = arms_index_array[i]"
   ]
  },
  {
   "cell_type": "code",
   "execution_count": 41,
   "metadata": {},
   "outputs": [],
   "source": [
    "def ctr_tsc_simulator(K_arms, d, R, epsilon, delta, epochs, top_movies_index, filtered_ratings):\n",
    "    \n",
    "    np.random.seed(42)\n",
    "    \n",
    "    # Initiate policy\n",
    "    thompson_sampling_contextual_object = thompson_sampling_contextual_policy(K_arms = K_arms, \n",
    "                                                                              d = d, R = R, \n",
    "                                                                              epsilon = epsilon, \n",
    "                                                                              delta = delta)\n",
    "\n",
    "    # Store specific arm_index\n",
    "    thompson_sampling_contextual_object.store_arm_index(top_movies_index.to_numpy())\n",
    "\n",
    "    # Instantiate trackers\n",
    "    time_steps = 0\n",
    "    cumulative_rewards = 0\n",
    "    ctr = []\n",
    "\n",
    "    for epoch_iter in range(epochs):\n",
    "\n",
    "        print(\"Epoch: \" + str(epoch_iter))\n",
    "\n",
    "        if epoch_iter == 0:\n",
    "            \n",
    "            # Start with filtered ratings first\n",
    "            ratings = filtered_ratings.copy()\n",
    "            \n",
    "            # Initiate unused_ratings\n",
    "            unused_ratings = pd.DataFrame(columns = [\"userid\", \"movieid\", \"rating\",\n",
    "                                                     \"timestamp\", \"reward\"])\n",
    "        else:\n",
    "            # Recycle unused data\n",
    "            ratings = unused_ratings.copy().reset_index(drop = True)\n",
    "            unused_ratings = pd.DataFrame(columns = [\"userid\", \"movieid\", \"rating\",\n",
    "                                                     \"timestamp\", \"reward\"])\n",
    "\n",
    "        for i in range(len(ratings)):\n",
    "            \n",
    "            if i % 5000 == 0:\n",
    "                print(\"Step \" + str(i))\n",
    "\n",
    "            user_id = ratings.loc[i, \"userid\"]\n",
    "            movie_id = ratings.loc[i, \"movieid\"]\n",
    "\n",
    "            # x: User features\n",
    "            users_x_array = np.array(users.query(\"userid == @user_id\").drop(\"userid\", \n",
    "                                                                              axis = 1))\n",
    "            \n",
    "            # Reshape vector from (1, 28) to (28, 1) for calculation purposes\n",
    "            users_x_array = users_x_array.reshape(28, 1)\n",
    "\n",
    "            ratings_reward = ratings.loc[i, \"reward\"]\n",
    "\n",
    "            # Find policy's chosen arm based on input covariates at current time step\n",
    "            chosen_arm_index = thompson_sampling_contextual_object.select_arm(users_x_array)\n",
    "\n",
    "            # Check if arm_index is the same as data_arm (ie same actions were chosen)\n",
    "            if thompson_sampling_contextual_object.tsc_arms[chosen_arm_index].arm_index  == movie_id:\n",
    "\n",
    "                # Use reward information for the chosen arm to update\n",
    "                thompson_sampling_contextual_object.tsc_arms[chosen_arm_index].reward_update(ratings_reward, \n",
    "                                                                                             users_x_array)\n",
    "                \n",
    "                # For CTR calculation\n",
    "                time_steps += 1\n",
    "                cumulative_rewards += ratings_reward\n",
    "                ctr.append(cumulative_rewards / time_steps)\n",
    "\n",
    "            else:\n",
    "                \n",
    "                # Recycle data\n",
    "                unused_ratings = unused_ratings.append(ratings.iloc[i])\n",
    "\n",
    "    return {\"time_steps\": time_steps,\n",
    "            \"cumulative_rewards\": cumulative_rewards,\n",
    "            \"ctr\": ctr,\n",
    "            \"policy\": thompson_sampling_contextual_object}"
   ]
  },
  {
   "cell_type": "markdown",
   "metadata": {},
   "source": [
    "## Thompson Sampling for Contextual Bandits with R = 0.01, ε = 0.2, δ = 0.5"
   ]
  },
  {
   "cell_type": "code",
   "execution_count": 42,
   "metadata": {},
   "outputs": [
    {
     "name": "stdout",
     "output_type": "stream",
     "text": [
      "Epoch: 0\n",
      "Step 0\n",
      "Step 5000\n",
      "Step 10000\n",
      "Step 15000\n",
      "Step 20000\n",
      "Step 25000\n",
      "Step 30000\n",
      "Step 35000\n",
      "Step 40000\n",
      "Step 45000\n",
      "Step 50000\n",
      "Step 55000\n",
      "Step 60000\n",
      "Step 65000\n",
      "Step 70000\n",
      "Epoch: 1\n",
      "Step 0\n",
      "Step 5000\n",
      "Step 10000\n",
      "Step 15000\n",
      "Step 20000\n",
      "Step 25000\n",
      "Step 30000\n",
      "Step 35000\n",
      "Step 40000\n",
      "Step 45000\n",
      "Step 50000\n",
      "Step 55000\n",
      "Step 60000\n",
      "Step 65000\n",
      "Step 70000\n"
     ]
    }
   ],
   "source": [
    "R_value = 0.01\n",
    "epsilon_value = 0.2\n",
    "delta_value = 0.5\n",
    "simulation_thompson_sampling_contextual_eps02 = ctr_tsc_simulator(K_arms = n, d = 28,\n",
    "                                                                  R = R_value, \n",
    "                                                                  epsilon = epsilon_value,\n",
    "                                                                  delta = delta_value, \n",
    "                                                                  epochs = 2,\n",
    "                                                                  top_movies_index = top_movies_index,\n",
    "                                                                  filtered_ratings = filtered_ratings)"
   ]
  },
  {
   "cell_type": "code",
   "execution_count": 48,
   "metadata": {},
   "outputs": [
    {
     "data": {
      "text/plain": [
       "Text(0.5, 1.0, 'TSC with R = 0.01, ε = 0.2, δ = 0.5')"
      ]
     },
     "execution_count": 48,
     "metadata": {},
     "output_type": "execute_result"
    },
    {
     "data": {
      "image/png": "[encoded data removed]",
      "text/plain": [
       "<Figure size 432x288 with 1 Axes>"
      ]
     },
     "metadata": {
      "needs_background": "light"
     },
     "output_type": "display_data"
    }
   ],
   "source": [
    "plt.plot(simulation_thompson_sampling_contextual_eps02[\"ctr\"])\n",
    "plt.axhline(y=reward_mean, color = \"red\")\n",
    "plt.title(\"TSC with R = 0.01, ε = 0.2, δ = 0.5\")"
   ]
  },
  {
   "cell_type": "markdown",
   "metadata": {},
   "source": [
    "## Thompson Sampling for Contextual Bandits with R = 0.1, ε = 0.2, δ = 0.5"
   ]
  },
  {
   "cell_type": "code",
   "execution_count": 49,
   "metadata": {},
   "outputs": [
    {
     "name": "stdout",
     "output_type": "stream",
     "text": [
      "Epoch: 0\n",
      "Step 0\n",
      "Step 5000\n",
      "Step 10000\n",
      "Step 15000\n",
      "Step 20000\n",
      "Step 25000\n",
      "Step 30000\n",
      "Step 35000\n",
      "Step 40000\n",
      "Step 45000\n",
      "Step 50000\n",
      "Step 55000\n",
      "Step 60000\n",
      "Step 65000\n",
      "Step 70000\n",
      "Epoch: 1\n",
      "Step 0\n",
      "Step 5000\n",
      "Step 10000\n",
      "Step 15000\n",
      "Step 20000\n",
      "Step 25000\n",
      "Step 30000\n",
      "Step 35000\n",
      "Step 40000\n",
      "Step 45000\n",
      "Step 50000\n",
      "Step 55000\n",
      "Step 60000\n",
      "Step 65000\n",
      "Step 70000\n"
     ]
    }
   ],
   "source": [
    "R_value = 0.1\n",
    "epsilon_value = 0.2\n",
    "delta_value = 0.5\n",
    "simulation_thompson_sampling_contextual_r01 = ctr_tsc_simulator(K_arms = n, d = 28,\n",
    "                                                                R = R_value, \n",
    "                                                                epsilon = epsilon_value,\n",
    "                                                                delta = delta_value, \n",
    "                                                                epochs = 2,\n",
    "                                                                top_movies_index = top_movies_index,\n",
    "                                                                filtered_ratings = filtered_ratings)"
   ]
  },
  {
   "cell_type": "code",
   "execution_count": 50,
   "metadata": {},
   "outputs": [
    {
     "data": {
      "text/plain": [
       "Text(0.5, 1.0, 'TSC with R = 0.1, ε = 0.2, δ = 0.5')"
      ]
     },
     "execution_count": 50,
     "metadata": {},
     "output_type": "execute_result"
    },
    {
     "data": {
      "image/png": "[encoded data removed]",
      "text/plain": [
       "<Figure size 432x288 with 1 Axes>"
      ]
     },
     "metadata": {
      "needs_background": "light"
     },
     "output_type": "display_data"
    }
   ],
   "source": [
    "plt.plot(simulation_thompson_sampling_contextual_r01[\"ctr\"])\n",
    "plt.axhline(y=reward_mean, color = \"red\")\n",
    "plt.title(\"TSC with R = 0.1, ε = 0.2, δ = 0.5\")"
   ]
  },
  {
   "cell_type": "markdown",
   "metadata": {},
   "source": [
    "## Thompson Sampling for Contextual Bandits with R = 0.01, ε = 0.7, δ = 0.5"
   ]
  },
  {
   "cell_type": "code",
   "execution_count": 51,
   "metadata": {},
   "outputs": [
    {
     "name": "stdout",
     "output_type": "stream",
     "text": [
      "Epoch: 0\n",
      "Step 0\n",
      "Step 5000\n",
      "Step 10000\n",
      "Step 15000\n",
      "Step 20000\n",
      "Step 25000\n",
      "Step 30000\n",
      "Step 35000\n",
      "Step 40000\n",
      "Step 45000\n",
      "Step 50000\n",
      "Step 55000\n",
      "Step 60000\n",
      "Step 65000\n",
      "Step 70000\n",
      "Epoch: 1\n",
      "Step 0\n",
      "Step 5000\n",
      "Step 10000\n",
      "Step 15000\n",
      "Step 20000\n",
      "Step 25000\n",
      "Step 30000\n",
      "Step 35000\n",
      "Step 40000\n",
      "Step 45000\n",
      "Step 50000\n",
      "Step 55000\n",
      "Step 60000\n",
      "Step 65000\n",
      "Step 70000\n"
     ]
    }
   ],
   "source": [
    "R_value = 0.01\n",
    "epsilon_value = 0.7\n",
    "delta_value = 0.5\n",
    "simulation_thompson_sampling_contextual_e07 = ctr_tsc_simulator(K_arms = n, d = 28,\n",
    "                                                                R = R_value, \n",
    "                                                                epsilon = epsilon_value,\n",
    "                                                                delta = delta_value, \n",
    "                                                                epochs = 2,\n",
    "                                                                top_movies_index = top_movies_index,\n",
    "                                                                filtered_ratings = filtered_ratings)"
   ]
  },
  {
   "cell_type": "code",
   "execution_count": 52,
   "metadata": {},
   "outputs": [
    {
     "data": {
      "text/plain": [
       "Text(0.5, 1.0, 'TSC with R = 0.01, ε = 0.7, δ = 0.5')"
      ]
     },
     "execution_count": 52,
     "metadata": {},
     "output_type": "execute_result"
    },
    {
     "data": {
      "image/png": "[encoded data removed]",
      "text/plain": [
       "<Figure size 432x288 with 1 Axes>"
      ]
     },
     "metadata": {
      "needs_background": "light"
     },
     "output_type": "display_data"
    }
   ],
   "source": [
    "plt.plot(simulation_thompson_sampling_contextual_e07[\"ctr\"])\n",
    "plt.axhline(y=reward_mean, color = \"red\")\n",
    "plt.title(\"TSC with R = 0.01, ε = 0.7, δ = 0.5\")"
   ]
  },
  {
   "cell_type": "markdown",
   "metadata": {},
   "source": [
    "## Thompson Sampling for Contextual Bandits with R = 0.01, ε = 0.2, δ = 0.1"
   ]
  },
  {
   "cell_type": "code",
   "execution_count": 53,
   "metadata": {},
   "outputs": [
    {
     "name": "stdout",
     "output_type": "stream",
     "text": [
      "Epoch: 0\n",
      "Step 0\n",
      "Step 5000\n",
      "Step 10000\n",
      "Step 15000\n",
      "Step 20000\n",
      "Step 25000\n",
      "Step 30000\n",
      "Step 35000\n",
      "Step 40000\n",
      "Step 45000\n",
      "Step 50000\n",
      "Step 55000\n",
      "Step 60000\n",
      "Step 65000\n",
      "Step 70000\n",
      "Epoch: 1\n",
      "Step 0\n",
      "Step 5000\n",
      "Step 10000\n",
      "Step 15000\n",
      "Step 20000\n",
      "Step 25000\n",
      "Step 30000\n",
      "Step 35000\n",
      "Step 40000\n",
      "Step 45000\n",
      "Step 50000\n",
      "Step 55000\n",
      "Step 60000\n",
      "Step 65000\n",
      "Step 70000\n"
     ]
    }
   ],
   "source": [
    "R_value = 0.01\n",
    "epsilon_value = 0.2\n",
    "delta_value = 0.1\n",
    "simulation_thompson_sampling_contextual_delta01 = ctr_tsc_simulator(K_arms = n, d = 28,\n",
    "                                                                    R = R_value, \n",
    "                                                                    epsilon = epsilon_value,\n",
    "                                                                    delta = delta_value, \n",
    "                                                                    epochs = 2,\n",
    "                                                                    top_movies_index = top_movies_index,\n",
    "                                                                    filtered_ratings = filtered_ratings)"
   ]
  },
  {
   "cell_type": "code",
   "execution_count": 54,
   "metadata": {},
   "outputs": [
    {
     "data": {
      "text/plain": [
       "Text(0.5, 1.0, 'TSC with R = 0.01, ε = 0.2, δ = 0.1')"
      ]
     },
     "execution_count": 54,
     "metadata": {},
     "output_type": "execute_result"
    },
    {
     "data": {
      "image/png": "[encoded data removed]",
      "text/plain": [
       "<Figure size 432x288 with 1 Axes>"
      ]
     },
     "metadata": {
      "needs_background": "light"
     },
     "output_type": "display_data"
    }
   ],
   "source": [
    "plt.plot(simulation_thompson_sampling_contextual_delta01[\"ctr\"])\n",
    "plt.axhline(y=reward_mean, color = \"red\")\n",
    "plt.title(\"TSC with R = 0.01, ε = 0.2, δ = 0.1\")"
   ]
  },
  {
   "cell_type": "markdown",
   "metadata": {},
   "source": [
    "## Results Comparison for TSC"
   ]
  },
  {
   "cell_type": "code",
   "execution_count": 61,
   "metadata": {},
   "outputs": [
    {
     "data": {
      "text/plain": [
       "<matplotlib.legend.Legend at 0x7f8dc4064fa0>"
      ]
     },
     "execution_count": 61,
     "metadata": {},
     "output_type": "execute_result"
    },
    {
     "data": {
      "image/png": "[encoded data removed]",
      "text/plain": [
       "<Figure size 720x720 with 1 Axes>"
      ]
     },
     "metadata": {
      "needs_background": "light"
     },
     "output_type": "display_data"
    }
   ],
   "source": [
    "plt.figure(figsize=(10, 10))\n",
    "plt.plot(simulation_thompson_sampling_contextual_eps02[\"ctr\"], label = \"R = 0.01, ε = 0.2, δ = 0.5\")\n",
    "plt.plot(simulation_thompson_sampling_contextual_r01[\"ctr\"], label = \"R = 0.1, ε = 0.2, δ = 0.5\")\n",
    "plt.plot(simulation_thompson_sampling_contextual_e07[\"ctr\"], label = \"R = 0.01, ε = 0.7, δ = 0.5\")\n",
    "plt.plot(simulation_thompson_sampling_contextual_delta01[\"ctr\"], label = \"R = 0.01, ε = 0.2, δ = 0.1\")\n",
    "plt.axhline(y = reward_mean, color = \"cyan\")\n",
    "plt.legend()"
   ]
  },
  {
   "cell_type": "code",
   "execution_count": null,
   "metadata": {},
   "outputs": [],
   "source": []
  }
 ],
 "metadata": {
  "colab": {
   "provenance": []
  },
  "kernelspec": {
   "display_name": "Python 3",
   "language": "python",
   "name": "python3"
  },
  "language_info": {
   "codemirror_mode": {
    "name": "ipython",
    "version": 3
   },
   "file_extension": ".py",
   "mimetype": "text/x-python",
   "name": "python",
   "nbconvert_exporter": "python",
   "pygments_lexer": "ipython3",
   "version": "3.8.8"
  }
 },
 "nbformat": 4,
 "nbformat_minor": 1
}
